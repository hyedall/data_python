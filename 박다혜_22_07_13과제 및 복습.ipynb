{
 "cells": [
  {
   "cell_type": "code",
   "execution_count": 19,
   "outputs": [],
   "source": [
    "import pandas as pd\n",
    "import numpy as np\n",
    "import matplotlib.pyplot as plt\n",
    "import seaborn as sns\n"
   ],
   "metadata": {
    "collapsed": false,
    "pycharm": {
     "name": "#%%\n"
    }
   }
  },
  {
   "cell_type": "code",
   "execution_count": 82,
   "outputs": [],
   "source": [
    "finace_df = pd.read_csv('재무재표샘플데이터.csv')\n",
    "finace_df['주가상승률'] = (finace_df.미래_주가 - finace_df.현재_주가) /finace_df.현재_주가 *100"
   ],
   "metadata": {
    "collapsed": false,
    "pycharm": {
     "name": "#%%\n"
    }
   }
  },
  {
   "cell_type": "code",
   "execution_count": 3,
   "outputs": [],
   "source": [
    "report_df = pd.read_csv('주가리포트_샘플.csv')"
   ],
   "metadata": {
    "collapsed": false,
    "pycharm": {
     "name": "#%%\n"
    }
   }
  },
  {
   "cell_type": "markdown",
   "source": [
    "### 재무재표 샘플 데이터\n",
    "- 2013~2020 데이터\n",
    "- 2352개 기업\n",
    "- 부채비율 :\n",
    "![부채비율 설명](https://ecodemy.cafe24.com/debtr.gif)\n",
    "자기자본 대비 타인자본의 비율을 말한다. 일반적으로 100% 이하를 표준비율로 본다.\n",
    "- 매출액증가율 : (당기매출액 - 전기매출액) / 전기매출액 *100\n",
    "\n",
    "- 영업이익증가율 :\n",
    "- 당기순이익증가율 :\n",
    "- 매출액_상태, 영업이익_상태, 당기순이익_상태\n",
    "![](data:image/jpeg;base64,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)\n",
    "- EPS : 당기순이익을 그 기업이 발행한 총 주식수로 나눈 값 (한 주당 순이익)\n",
    "- PER : 주가수익비율을 의미하는 것으로, 주가가 그 회사 1주당 수익의 몇 배가 되는가를 나타내는 지표입니다.  주가 / EPS = 주가 / 1주당 강기순이익(납세 후)로 계산\n",
    "- ROA : 총자산순이익률로, 기업의 총자산으로 당기순이익이 얼마나 올랐는지 가늠하는 지표  (당기순이익 / 총자산) * 100\n",
    "- ROE : 자기자본의 운영이 얼마나 효율적으로 이루어졌는지를 반영하는 지표입니다. (당기순이익 / 자기자본) * 100\n",
    "- 현재_주가, 미래_주가 : 그 다음 년도의 주가 , 배당금"
   ],
   "metadata": {
    "collapsed": false,
    "pycharm": {
     "name": "#%% md\n"
    }
   }
  },
  {
   "cell_type": "code",
   "execution_count": 14,
   "outputs": [
    {
     "name": "stdout",
     "output_type": "stream",
     "text": [
      "<class 'pandas.core.frame.DataFrame'>\n",
      "RangeIndex: 19408 entries, 0 to 19407\n",
      "Data columns (total 15 columns):\n",
      " #   Column    Non-Null Count  Dtype  \n",
      "---  ------    --------------  -----  \n",
      " 0   기업        19408 non-null  object \n",
      " 1   연도        19408 non-null  int64  \n",
      " 2   부채비율      15575 non-null  float64\n",
      " 3   매출액증가율    13276 non-null  float64\n",
      " 4   영업이익증가율   13486 non-null  float64\n",
      " 5   당기순이익증가율  13383 non-null  float64\n",
      " 6   매출액_상태    14914 non-null  object \n",
      " 7   영업이익_상태   15109 non-null  object \n",
      " 8   당기순이익_상태  15000 non-null  object \n",
      " 9   ROA       15467 non-null  float64\n",
      " 10  ROE       13391 non-null  float64\n",
      " 11  현재_주가     17936 non-null  float64\n",
      " 12  미래_주가     15758 non-null  float64\n",
      " 13  배당금       13800 non-null  float64\n",
      " 14  PER       12994 non-null  float64\n",
      "dtypes: float64(10), int64(1), object(4)\n",
      "memory usage: 2.2+ MB\n"
     ]
    }
   ],
   "source": [
    "finace_df.info()"
   ],
   "metadata": {
    "collapsed": false,
    "pycharm": {
     "name": "#%%\n"
    }
   }
  },
  {
   "cell_type": "code",
   "execution_count": 17,
   "outputs": [
    {
     "data": {
      "text/plain": "                 연도          부채비율         매출액증가율        영업이익증가율  \\\ncount  19408.000000  15575.000000   13276.000000   13486.000000   \nmean    2016.545754     57.192991     -13.714507       5.663680   \nstd        2.270829     25.675239     974.627140    3912.655608   \nmin     2013.000000   -690.981106 -109930.000100 -376694.348500   \n25%     2015.000000     41.922336      -7.787340     -23.025541   \n50%     2017.000000     57.965976       2.900938      15.989388   \n75%     2018.000000     75.189708      13.522463      68.099875   \nmax     2020.000000    100.000000     100.000000  111606.989200   \n\n            당기순이익증가율           ROA           ROE         현재_주가         미래_주가  \\\ncount   13383.000000  15467.000000  13391.000000  1.793600e+04  1.575800e+04   \nmean       15.950976     -0.251890     -1.786861  2.188167e+04  2.170006e+04   \nstd      3151.378894     19.553647    103.299383  6.410857e+04  6.273922e+04   \nmin   -206191.046200   -685.047986  -6234.108558  9.600000e+01  1.080000e+02   \n25%       -24.660531     -1.692919     -3.624691  2.990000e+03  3.000000e+03   \n50%        25.121183      2.263272      4.106012  6.777000e+03  6.770000e+03   \n75%        89.798188      5.947898     10.153421  1.700000e+04  1.696200e+04   \nmax    104804.574900    407.621432   5452.195323  1.614000e+06  1.614000e+06   \n\n                 배당금           PER  \ncount   13800.000000  12994.000000  \nmean      291.860870     59.039385  \nstd      1409.908478    437.410113  \nmin         0.000000      0.007537  \n25%         0.000000      7.397497  \n50%        20.000000     14.770284  \n75%       170.000000     32.129018  \nmax    100000.000000  29780.000000  ",
      "text/html": "<div>\n<style scoped>\n    .dataframe tbody tr th:only-of-type {\n        vertical-align: middle;\n    }\n\n    .dataframe tbody tr th {\n        vertical-align: top;\n    }\n\n    .dataframe thead th {\n        text-align: right;\n    }\n</style>\n<table border=\"1\" class=\"dataframe\">\n  <thead>\n    <tr style=\"text-align: right;\">\n      <th></th>\n      <th>연도</th>\n      <th>부채비율</th>\n      <th>매출액증가율</th>\n      <th>영업이익증가율</th>\n      <th>당기순이익증가율</th>\n      <th>ROA</th>\n      <th>ROE</th>\n      <th>현재_주가</th>\n      <th>미래_주가</th>\n      <th>배당금</th>\n      <th>PER</th>\n    </tr>\n  </thead>\n  <tbody>\n    <tr>\n      <th>count</th>\n      <td>19408.000000</td>\n      <td>15575.000000</td>\n      <td>13276.000000</td>\n      <td>13486.000000</td>\n      <td>13383.000000</td>\n      <td>15467.000000</td>\n      <td>13391.000000</td>\n      <td>1.793600e+04</td>\n      <td>1.575800e+04</td>\n      <td>13800.000000</td>\n      <td>12994.000000</td>\n    </tr>\n    <tr>\n      <th>mean</th>\n      <td>2016.545754</td>\n      <td>57.192991</td>\n      <td>-13.714507</td>\n      <td>5.663680</td>\n      <td>15.950976</td>\n      <td>-0.251890</td>\n      <td>-1.786861</td>\n      <td>2.188167e+04</td>\n      <td>2.170006e+04</td>\n      <td>291.860870</td>\n      <td>59.039385</td>\n    </tr>\n    <tr>\n      <th>std</th>\n      <td>2.270829</td>\n      <td>25.675239</td>\n      <td>974.627140</td>\n      <td>3912.655608</td>\n      <td>3151.378894</td>\n      <td>19.553647</td>\n      <td>103.299383</td>\n      <td>6.410857e+04</td>\n      <td>6.273922e+04</td>\n      <td>1409.908478</td>\n      <td>437.410113</td>\n    </tr>\n    <tr>\n      <th>min</th>\n      <td>2013.000000</td>\n      <td>-690.981106</td>\n      <td>-109930.000100</td>\n      <td>-376694.348500</td>\n      <td>-206191.046200</td>\n      <td>-685.047986</td>\n      <td>-6234.108558</td>\n      <td>9.600000e+01</td>\n      <td>1.080000e+02</td>\n      <td>0.000000</td>\n      <td>0.007537</td>\n    </tr>\n    <tr>\n      <th>25%</th>\n      <td>2015.000000</td>\n      <td>41.922336</td>\n      <td>-7.787340</td>\n      <td>-23.025541</td>\n      <td>-24.660531</td>\n      <td>-1.692919</td>\n      <td>-3.624691</td>\n      <td>2.990000e+03</td>\n      <td>3.000000e+03</td>\n      <td>0.000000</td>\n      <td>7.397497</td>\n    </tr>\n    <tr>\n      <th>50%</th>\n      <td>2017.000000</td>\n      <td>57.965976</td>\n      <td>2.900938</td>\n      <td>15.989388</td>\n      <td>25.121183</td>\n      <td>2.263272</td>\n      <td>4.106012</td>\n      <td>6.777000e+03</td>\n      <td>6.770000e+03</td>\n      <td>20.000000</td>\n      <td>14.770284</td>\n    </tr>\n    <tr>\n      <th>75%</th>\n      <td>2018.000000</td>\n      <td>75.189708</td>\n      <td>13.522463</td>\n      <td>68.099875</td>\n      <td>89.798188</td>\n      <td>5.947898</td>\n      <td>10.153421</td>\n      <td>1.700000e+04</td>\n      <td>1.696200e+04</td>\n      <td>170.000000</td>\n      <td>32.129018</td>\n    </tr>\n    <tr>\n      <th>max</th>\n      <td>2020.000000</td>\n      <td>100.000000</td>\n      <td>100.000000</td>\n      <td>111606.989200</td>\n      <td>104804.574900</td>\n      <td>407.621432</td>\n      <td>5452.195323</td>\n      <td>1.614000e+06</td>\n      <td>1.614000e+06</td>\n      <td>100000.000000</td>\n      <td>29780.000000</td>\n    </tr>\n  </tbody>\n</table>\n</div>"
     },
     "execution_count": 17,
     "metadata": {},
     "output_type": "execute_result"
    }
   ],
   "source": [
    "finace_df.describe()"
   ],
   "metadata": {
    "collapsed": false,
    "pycharm": {
     "name": "#%%\n"
    }
   }
  },
  {
   "cell_type": "code",
   "execution_count": 5,
   "outputs": [
    {
     "data": {
      "text/plain": "Index(['기업', '연도', '부채비율', '매출액증가율', '영업이익증가율', '당기순이익증가율', '매출액_상태',\n       '영업이익_상태', '당기순이익_상태', 'ROA', 'ROE', '현재_주가', '미래_주가', '배당금', 'PER'],\n      dtype='object')"
     },
     "execution_count": 5,
     "metadata": {},
     "output_type": "execute_result"
    }
   ],
   "source": [
    "finace_df.columns"
   ],
   "metadata": {
    "collapsed": false,
    "pycharm": {
     "name": "#%%\n"
    }
   }
  },
  {
   "cell_type": "code",
   "execution_count": 7,
   "outputs": [
    {
     "data": {
      "text/plain": "2018    2944\n2013    2352\n2014    2352\n2015    2352\n2016    2352\n2017    2352\n2019    2352\n2020    2352\nName: 연도, dtype: int64"
     },
     "execution_count": 7,
     "metadata": {},
     "output_type": "execute_result"
    }
   ],
   "source": [
    "finace_df.연도.value_counts()"
   ],
   "metadata": {
    "collapsed": false,
    "pycharm": {
     "name": "#%%\n"
    }
   }
  },
  {
   "cell_type": "code",
   "execution_count": 8,
   "outputs": [
    {
     "data": {
      "text/plain": "아프리카TV     9\n바이오톡스텍     9\n천일고속       9\n천랩         9\n미코바이오메드    9\n          ..\n삼진         8\n삼지전자       8\n삼정펄프       8\n삼일제약       8\n힘스         8\nName: 기업, Length: 2352, dtype: int64"
     },
     "execution_count": 8,
     "metadata": {},
     "output_type": "execute_result"
    }
   ],
   "source": [
    "finace_df.기업.value_counts()"
   ],
   "metadata": {
    "collapsed": false,
    "pycharm": {
     "name": "#%%\n"
    }
   }
  },
  {
   "cell_type": "code",
   "execution_count": 94,
   "outputs": [],
   "source": [
    "finace_df['주가상승률'] = (finace_df.미래_주가 - finace_df.현재_주가) /finace_df.현재_주가 *100"
   ],
   "metadata": {
    "collapsed": false,
    "pycharm": {
     "name": "#%%\n"
    }
   }
  },
  {
   "cell_type": "code",
   "execution_count": 34,
   "outputs": [
    {
     "data": {
      "text/plain": "                연도      부채비율    매출액증가율   영업이익증가율  당기순이익증가율       ROA  \\\n연도        1.000000  0.025475 -0.005835  0.002336  0.002895 -0.061275   \n부채비율      0.025475  1.000000  0.005498  0.003270 -0.001461  0.372973   \n매출액증가율   -0.005835  0.005498  1.000000  0.262334  0.314718  0.011902   \n영업이익증가율   0.002336  0.003270  0.262334  1.000000  0.084931  0.013646   \n당기순이익증가율  0.002895 -0.001461  0.314718  0.084931  1.000000  0.001693   \nROA      -0.061275  0.372973  0.011902  0.013646  0.001693  1.000000   \nROE      -0.037333  0.040043  0.003108 -0.001421  0.000350  0.194443   \n현재_주가    -0.005755  0.035572  0.004234 -0.000926  0.002752  0.059915   \n미래_주가    -0.014127  0.042042  0.005072 -0.001158  0.004847  0.061828   \n배당금       0.004317  0.042313  0.003421  0.001656 -0.005467  0.092958   \nPER      -0.001662 -0.000145 -0.003035 -0.003518  0.070111  0.001646   \n주가상승률     0.086918 -0.005553  0.010434 -0.000865  0.008640 -0.001933   \n\n               ROE     현재_주가     미래_주가       배당금       PER     주가상승률  \n연도       -0.037333 -0.005755 -0.014127  0.004317 -0.001662  0.086918  \n부채비율      0.040043  0.035572  0.042042  0.042313 -0.000145 -0.005553  \n매출액증가율    0.003108  0.004234  0.005072  0.003421 -0.003035  0.010434  \n영업이익증가율  -0.001421 -0.000926 -0.001158  0.001656 -0.003518 -0.000865  \n당기순이익증가율  0.000350  0.002752  0.004847 -0.005467  0.070111  0.008640  \nROA       0.194443  0.059915  0.061828  0.092958  0.001646 -0.001933  \nROE       1.000000  0.027650  0.027613  0.030283  0.003153  0.008223  \n현재_주가     0.027650  1.000000  0.921305  0.355394  0.036747 -0.060731  \n미래_주가     0.027613  0.921305  1.000000  0.326924  0.017722  0.056265  \n배당금       0.030283  0.355394  0.326924  1.000000 -0.017966 -0.025859  \nPER       0.003153  0.036747  0.017722 -0.017966  1.000000 -0.006278  \n주가상승률     0.008223 -0.060731  0.056265 -0.025859 -0.006278  1.000000  ",
      "text/html": "<div>\n<style scoped>\n    .dataframe tbody tr th:only-of-type {\n        vertical-align: middle;\n    }\n\n    .dataframe tbody tr th {\n        vertical-align: top;\n    }\n\n    .dataframe thead th {\n        text-align: right;\n    }\n</style>\n<table border=\"1\" class=\"dataframe\">\n  <thead>\n    <tr style=\"text-align: right;\">\n      <th></th>\n      <th>연도</th>\n      <th>부채비율</th>\n      <th>매출액증가율</th>\n      <th>영업이익증가율</th>\n      <th>당기순이익증가율</th>\n      <th>ROA</th>\n      <th>ROE</th>\n      <th>현재_주가</th>\n      <th>미래_주가</th>\n      <th>배당금</th>\n      <th>PER</th>\n      <th>주가상승률</th>\n    </tr>\n  </thead>\n  <tbody>\n    <tr>\n      <th>연도</th>\n      <td>1.000000</td>\n      <td>0.025475</td>\n      <td>-0.005835</td>\n      <td>0.002336</td>\n      <td>0.002895</td>\n      <td>-0.061275</td>\n      <td>-0.037333</td>\n      <td>-0.005755</td>\n      <td>-0.014127</td>\n      <td>0.004317</td>\n      <td>-0.001662</td>\n      <td>0.086918</td>\n    </tr>\n    <tr>\n      <th>부채비율</th>\n      <td>0.025475</td>\n      <td>1.000000</td>\n      <td>0.005498</td>\n      <td>0.003270</td>\n      <td>-0.001461</td>\n      <td>0.372973</td>\n      <td>0.040043</td>\n      <td>0.035572</td>\n      <td>0.042042</td>\n      <td>0.042313</td>\n      <td>-0.000145</td>\n      <td>-0.005553</td>\n    </tr>\n    <tr>\n      <th>매출액증가율</th>\n      <td>-0.005835</td>\n      <td>0.005498</td>\n      <td>1.000000</td>\n      <td>0.262334</td>\n      <td>0.314718</td>\n      <td>0.011902</td>\n      <td>0.003108</td>\n      <td>0.004234</td>\n      <td>0.005072</td>\n      <td>0.003421</td>\n      <td>-0.003035</td>\n      <td>0.010434</td>\n    </tr>\n    <tr>\n      <th>영업이익증가율</th>\n      <td>0.002336</td>\n      <td>0.003270</td>\n      <td>0.262334</td>\n      <td>1.000000</td>\n      <td>0.084931</td>\n      <td>0.013646</td>\n      <td>-0.001421</td>\n      <td>-0.000926</td>\n      <td>-0.001158</td>\n      <td>0.001656</td>\n      <td>-0.003518</td>\n      <td>-0.000865</td>\n    </tr>\n    <tr>\n      <th>당기순이익증가율</th>\n      <td>0.002895</td>\n      <td>-0.001461</td>\n      <td>0.314718</td>\n      <td>0.084931</td>\n      <td>1.000000</td>\n      <td>0.001693</td>\n      <td>0.000350</td>\n      <td>0.002752</td>\n      <td>0.004847</td>\n      <td>-0.005467</td>\n      <td>0.070111</td>\n      <td>0.008640</td>\n    </tr>\n    <tr>\n      <th>ROA</th>\n      <td>-0.061275</td>\n      <td>0.372973</td>\n      <td>0.011902</td>\n      <td>0.013646</td>\n      <td>0.001693</td>\n      <td>1.000000</td>\n      <td>0.194443</td>\n      <td>0.059915</td>\n      <td>0.061828</td>\n      <td>0.092958</td>\n      <td>0.001646</td>\n      <td>-0.001933</td>\n    </tr>\n    <tr>\n      <th>ROE</th>\n      <td>-0.037333</td>\n      <td>0.040043</td>\n      <td>0.003108</td>\n      <td>-0.001421</td>\n      <td>0.000350</td>\n      <td>0.194443</td>\n      <td>1.000000</td>\n      <td>0.027650</td>\n      <td>0.027613</td>\n      <td>0.030283</td>\n      <td>0.003153</td>\n      <td>0.008223</td>\n    </tr>\n    <tr>\n      <th>현재_주가</th>\n      <td>-0.005755</td>\n      <td>0.035572</td>\n      <td>0.004234</td>\n      <td>-0.000926</td>\n      <td>0.002752</td>\n      <td>0.059915</td>\n      <td>0.027650</td>\n      <td>1.000000</td>\n      <td>0.921305</td>\n      <td>0.355394</td>\n      <td>0.036747</td>\n      <td>-0.060731</td>\n    </tr>\n    <tr>\n      <th>미래_주가</th>\n      <td>-0.014127</td>\n      <td>0.042042</td>\n      <td>0.005072</td>\n      <td>-0.001158</td>\n      <td>0.004847</td>\n      <td>0.061828</td>\n      <td>0.027613</td>\n      <td>0.921305</td>\n      <td>1.000000</td>\n      <td>0.326924</td>\n      <td>0.017722</td>\n      <td>0.056265</td>\n    </tr>\n    <tr>\n      <th>배당금</th>\n      <td>0.004317</td>\n      <td>0.042313</td>\n      <td>0.003421</td>\n      <td>0.001656</td>\n      <td>-0.005467</td>\n      <td>0.092958</td>\n      <td>0.030283</td>\n      <td>0.355394</td>\n      <td>0.326924</td>\n      <td>1.000000</td>\n      <td>-0.017966</td>\n      <td>-0.025859</td>\n    </tr>\n    <tr>\n      <th>PER</th>\n      <td>-0.001662</td>\n      <td>-0.000145</td>\n      <td>-0.003035</td>\n      <td>-0.003518</td>\n      <td>0.070111</td>\n      <td>0.001646</td>\n      <td>0.003153</td>\n      <td>0.036747</td>\n      <td>0.017722</td>\n      <td>-0.017966</td>\n      <td>1.000000</td>\n      <td>-0.006278</td>\n    </tr>\n    <tr>\n      <th>주가상승률</th>\n      <td>0.086918</td>\n      <td>-0.005553</td>\n      <td>0.010434</td>\n      <td>-0.000865</td>\n      <td>0.008640</td>\n      <td>-0.001933</td>\n      <td>0.008223</td>\n      <td>-0.060731</td>\n      <td>0.056265</td>\n      <td>-0.025859</td>\n      <td>-0.006278</td>\n      <td>1.000000</td>\n    </tr>\n  </tbody>\n</table>\n</div>"
     },
     "execution_count": 34,
     "metadata": {},
     "output_type": "execute_result"
    }
   ],
   "source": [
    "# 속성 간 상관관계\n",
    "\n",
    "finace_df.corr()\n",
    "\n",
    "# 배당금 - 미래주가\n",
    "# 배당금 - 현재주가\n",
    "# roa - 부채비율\n",
    "#"
   ],
   "metadata": {
    "collapsed": false,
    "pycharm": {
     "name": "#%%\n"
    }
   }
  },
  {
   "cell_type": "code",
   "execution_count": 35,
   "outputs": [],
   "source": [
    "plt.figure(figsize=(5,5)) # x축, y축 사이즈\n",
    "%matplotlib inline"
   ],
   "metadata": {
    "collapsed": false,
    "pycharm": {
     "name": "#%%\n"
    }
   }
  },
  {
   "cell_type": "code",
   "execution_count": 33,
   "outputs": [
    {
     "name": "stderr",
     "output_type": "stream",
     "text": [
      "/Users/parkdahye/miniforge3/envs/newenv/lib/python3.10/site-packages/seaborn/utils.py:95: UserWarning: Glyph 50672 (\\N{HANGUL SYLLABLE YEON}) missing from current font.\n",
      "  fig.canvas.draw()\n",
      "/Users/parkdahye/miniforge3/envs/newenv/lib/python3.10/site-packages/seaborn/utils.py:95: UserWarning: Glyph 46020 (\\N{HANGUL SYLLABLE DO}) missing from current font.\n",
      "  fig.canvas.draw()\n",
      "/Users/parkdahye/miniforge3/envs/newenv/lib/python3.10/site-packages/seaborn/utils.py:95: UserWarning: Glyph 48512 (\\N{HANGUL SYLLABLE BU}) missing from current font.\n",
      "  fig.canvas.draw()\n",
      "/Users/parkdahye/miniforge3/envs/newenv/lib/python3.10/site-packages/seaborn/utils.py:95: UserWarning: Glyph 52292 (\\N{HANGUL SYLLABLE CAE}) missing from current font.\n",
      "  fig.canvas.draw()\n",
      "/Users/parkdahye/miniforge3/envs/newenv/lib/python3.10/site-packages/seaborn/utils.py:95: UserWarning: Glyph 48708 (\\N{HANGUL SYLLABLE BI}) missing from current font.\n",
      "  fig.canvas.draw()\n",
      "/Users/parkdahye/miniforge3/envs/newenv/lib/python3.10/site-packages/seaborn/utils.py:95: UserWarning: Glyph 50984 (\\N{HANGUL SYLLABLE YUL}) missing from current font.\n",
      "  fig.canvas.draw()\n",
      "/Users/parkdahye/miniforge3/envs/newenv/lib/python3.10/site-packages/seaborn/utils.py:95: UserWarning: Glyph 47588 (\\N{HANGUL SYLLABLE MAE}) missing from current font.\n",
      "  fig.canvas.draw()\n",
      "/Users/parkdahye/miniforge3/envs/newenv/lib/python3.10/site-packages/seaborn/utils.py:95: UserWarning: Glyph 52636 (\\N{HANGUL SYLLABLE CUL}) missing from current font.\n",
      "  fig.canvas.draw()\n",
      "/Users/parkdahye/miniforge3/envs/newenv/lib/python3.10/site-packages/seaborn/utils.py:95: UserWarning: Glyph 50529 (\\N{HANGUL SYLLABLE AEG}) missing from current font.\n",
      "  fig.canvas.draw()\n",
      "/Users/parkdahye/miniforge3/envs/newenv/lib/python3.10/site-packages/seaborn/utils.py:95: UserWarning: Glyph 51613 (\\N{HANGUL SYLLABLE JEUNG}) missing from current font.\n",
      "  fig.canvas.draw()\n",
      "/Users/parkdahye/miniforge3/envs/newenv/lib/python3.10/site-packages/seaborn/utils.py:95: UserWarning: Glyph 44032 (\\N{HANGUL SYLLABLE GA}) missing from current font.\n",
      "  fig.canvas.draw()\n",
      "/Users/parkdahye/miniforge3/envs/newenv/lib/python3.10/site-packages/seaborn/utils.py:95: UserWarning: Glyph 50689 (\\N{HANGUL SYLLABLE YEONG}) missing from current font.\n",
      "  fig.canvas.draw()\n",
      "/Users/parkdahye/miniforge3/envs/newenv/lib/python3.10/site-packages/seaborn/utils.py:95: UserWarning: Glyph 50629 (\\N{HANGUL SYLLABLE EOB}) missing from current font.\n",
      "  fig.canvas.draw()\n",
      "/Users/parkdahye/miniforge3/envs/newenv/lib/python3.10/site-packages/seaborn/utils.py:95: UserWarning: Glyph 51060 (\\N{HANGUL SYLLABLE I}) missing from current font.\n",
      "  fig.canvas.draw()\n",
      "/Users/parkdahye/miniforge3/envs/newenv/lib/python3.10/site-packages/seaborn/utils.py:95: UserWarning: Glyph 51061 (\\N{HANGUL SYLLABLE IG}) missing from current font.\n",
      "  fig.canvas.draw()\n",
      "/Users/parkdahye/miniforge3/envs/newenv/lib/python3.10/site-packages/seaborn/utils.py:95: UserWarning: Glyph 45817 (\\N{HANGUL SYLLABLE DANG}) missing from current font.\n",
      "  fig.canvas.draw()\n",
      "/Users/parkdahye/miniforge3/envs/newenv/lib/python3.10/site-packages/seaborn/utils.py:95: UserWarning: Glyph 44592 (\\N{HANGUL SYLLABLE GI}) missing from current font.\n",
      "  fig.canvas.draw()\n",
      "/Users/parkdahye/miniforge3/envs/newenv/lib/python3.10/site-packages/seaborn/utils.py:95: UserWarning: Glyph 49692 (\\N{HANGUL SYLLABLE SUN}) missing from current font.\n",
      "  fig.canvas.draw()\n",
      "/Users/parkdahye/miniforge3/envs/newenv/lib/python3.10/site-packages/seaborn/utils.py:95: UserWarning: Glyph 54788 (\\N{HANGUL SYLLABLE HYEON}) missing from current font.\n",
      "  fig.canvas.draw()\n",
      "/Users/parkdahye/miniforge3/envs/newenv/lib/python3.10/site-packages/seaborn/utils.py:95: UserWarning: Glyph 51116 (\\N{HANGUL SYLLABLE JAE}) missing from current font.\n",
      "  fig.canvas.draw()\n",
      "/Users/parkdahye/miniforge3/envs/newenv/lib/python3.10/site-packages/seaborn/utils.py:95: UserWarning: Glyph 51452 (\\N{HANGUL SYLLABLE JU}) missing from current font.\n",
      "  fig.canvas.draw()\n",
      "/Users/parkdahye/miniforge3/envs/newenv/lib/python3.10/site-packages/seaborn/utils.py:95: UserWarning: Glyph 48120 (\\N{HANGUL SYLLABLE MI}) missing from current font.\n",
      "  fig.canvas.draw()\n",
      "/Users/parkdahye/miniforge3/envs/newenv/lib/python3.10/site-packages/seaborn/utils.py:95: UserWarning: Glyph 47000 (\\N{HANGUL SYLLABLE RAE}) missing from current font.\n",
      "  fig.canvas.draw()\n",
      "/Users/parkdahye/miniforge3/envs/newenv/lib/python3.10/site-packages/seaborn/utils.py:95: UserWarning: Glyph 48176 (\\N{HANGUL SYLLABLE BAE}) missing from current font.\n",
      "  fig.canvas.draw()\n",
      "/Users/parkdahye/miniforge3/envs/newenv/lib/python3.10/site-packages/seaborn/utils.py:95: UserWarning: Glyph 44552 (\\N{HANGUL SYLLABLE GEUM}) missing from current font.\n",
      "  fig.canvas.draw()\n",
      "/Users/parkdahye/miniforge3/envs/newenv/lib/python3.10/site-packages/seaborn/utils.py:95: UserWarning: Glyph 49345 (\\N{HANGUL SYLLABLE SANG}) missing from current font.\n",
      "  fig.canvas.draw()\n",
      "/Users/parkdahye/miniforge3/envs/newenv/lib/python3.10/site-packages/seaborn/utils.py:95: UserWarning: Glyph 49849 (\\N{HANGUL SYLLABLE SEUNG}) missing from current font.\n",
      "  fig.canvas.draw()\n",
      "/Users/parkdahye/miniforge3/envs/newenv/lib/python3.10/site-packages/seaborn/utils.py:95: UserWarning: Glyph 47456 (\\N{HANGUL SYLLABLE RYUL}) missing from current font.\n",
      "  fig.canvas.draw()\n"
     ]
    },
    {
     "data": {
      "text/plain": "<AxesSubplot:>"
     },
     "execution_count": 33,
     "metadata": {},
     "output_type": "execute_result"
    },
    {
     "name": "stderr",
     "output_type": "stream",
     "text": [
      "/Users/parkdahye/miniforge3/envs/newenv/lib/python3.10/site-packages/IPython/core/pylabtools.py:151: UserWarning: Glyph 50672 (\\N{HANGUL SYLLABLE YEON}) missing from current font.\n",
      "  fig.canvas.print_figure(bytes_io, **kw)\n",
      "/Users/parkdahye/miniforge3/envs/newenv/lib/python3.10/site-packages/IPython/core/pylabtools.py:151: UserWarning: Glyph 46020 (\\N{HANGUL SYLLABLE DO}) missing from current font.\n",
      "  fig.canvas.print_figure(bytes_io, **kw)\n",
      "/Users/parkdahye/miniforge3/envs/newenv/lib/python3.10/site-packages/IPython/core/pylabtools.py:151: UserWarning: Glyph 48512 (\\N{HANGUL SYLLABLE BU}) missing from current font.\n",
      "  fig.canvas.print_figure(bytes_io, **kw)\n",
      "/Users/parkdahye/miniforge3/envs/newenv/lib/python3.10/site-packages/IPython/core/pylabtools.py:151: UserWarning: Glyph 52292 (\\N{HANGUL SYLLABLE CAE}) missing from current font.\n",
      "  fig.canvas.print_figure(bytes_io, **kw)\n",
      "/Users/parkdahye/miniforge3/envs/newenv/lib/python3.10/site-packages/IPython/core/pylabtools.py:151: UserWarning: Glyph 48708 (\\N{HANGUL SYLLABLE BI}) missing from current font.\n",
      "  fig.canvas.print_figure(bytes_io, **kw)\n",
      "/Users/parkdahye/miniforge3/envs/newenv/lib/python3.10/site-packages/IPython/core/pylabtools.py:151: UserWarning: Glyph 50984 (\\N{HANGUL SYLLABLE YUL}) missing from current font.\n",
      "  fig.canvas.print_figure(bytes_io, **kw)\n",
      "/Users/parkdahye/miniforge3/envs/newenv/lib/python3.10/site-packages/IPython/core/pylabtools.py:151: UserWarning: Glyph 47588 (\\N{HANGUL SYLLABLE MAE}) missing from current font.\n",
      "  fig.canvas.print_figure(bytes_io, **kw)\n",
      "/Users/parkdahye/miniforge3/envs/newenv/lib/python3.10/site-packages/IPython/core/pylabtools.py:151: UserWarning: Glyph 52636 (\\N{HANGUL SYLLABLE CUL}) missing from current font.\n",
      "  fig.canvas.print_figure(bytes_io, **kw)\n",
      "/Users/parkdahye/miniforge3/envs/newenv/lib/python3.10/site-packages/IPython/core/pylabtools.py:151: UserWarning: Glyph 50529 (\\N{HANGUL SYLLABLE AEG}) missing from current font.\n",
      "  fig.canvas.print_figure(bytes_io, **kw)\n",
      "/Users/parkdahye/miniforge3/envs/newenv/lib/python3.10/site-packages/IPython/core/pylabtools.py:151: UserWarning: Glyph 51613 (\\N{HANGUL SYLLABLE JEUNG}) missing from current font.\n",
      "  fig.canvas.print_figure(bytes_io, **kw)\n",
      "/Users/parkdahye/miniforge3/envs/newenv/lib/python3.10/site-packages/IPython/core/pylabtools.py:151: UserWarning: Glyph 44032 (\\N{HANGUL SYLLABLE GA}) missing from current font.\n",
      "  fig.canvas.print_figure(bytes_io, **kw)\n",
      "/Users/parkdahye/miniforge3/envs/newenv/lib/python3.10/site-packages/IPython/core/pylabtools.py:151: UserWarning: Glyph 50689 (\\N{HANGUL SYLLABLE YEONG}) missing from current font.\n",
      "  fig.canvas.print_figure(bytes_io, **kw)\n",
      "/Users/parkdahye/miniforge3/envs/newenv/lib/python3.10/site-packages/IPython/core/pylabtools.py:151: UserWarning: Glyph 50629 (\\N{HANGUL SYLLABLE EOB}) missing from current font.\n",
      "  fig.canvas.print_figure(bytes_io, **kw)\n",
      "/Users/parkdahye/miniforge3/envs/newenv/lib/python3.10/site-packages/IPython/core/pylabtools.py:151: UserWarning: Glyph 51060 (\\N{HANGUL SYLLABLE I}) missing from current font.\n",
      "  fig.canvas.print_figure(bytes_io, **kw)\n",
      "/Users/parkdahye/miniforge3/envs/newenv/lib/python3.10/site-packages/IPython/core/pylabtools.py:151: UserWarning: Glyph 51061 (\\N{HANGUL SYLLABLE IG}) missing from current font.\n",
      "  fig.canvas.print_figure(bytes_io, **kw)\n",
      "/Users/parkdahye/miniforge3/envs/newenv/lib/python3.10/site-packages/IPython/core/pylabtools.py:151: UserWarning: Glyph 45817 (\\N{HANGUL SYLLABLE DANG}) missing from current font.\n",
      "  fig.canvas.print_figure(bytes_io, **kw)\n",
      "/Users/parkdahye/miniforge3/envs/newenv/lib/python3.10/site-packages/IPython/core/pylabtools.py:151: UserWarning: Glyph 44592 (\\N{HANGUL SYLLABLE GI}) missing from current font.\n",
      "  fig.canvas.print_figure(bytes_io, **kw)\n",
      "/Users/parkdahye/miniforge3/envs/newenv/lib/python3.10/site-packages/IPython/core/pylabtools.py:151: UserWarning: Glyph 49692 (\\N{HANGUL SYLLABLE SUN}) missing from current font.\n",
      "  fig.canvas.print_figure(bytes_io, **kw)\n",
      "/Users/parkdahye/miniforge3/envs/newenv/lib/python3.10/site-packages/IPython/core/pylabtools.py:151: UserWarning: Glyph 54788 (\\N{HANGUL SYLLABLE HYEON}) missing from current font.\n",
      "  fig.canvas.print_figure(bytes_io, **kw)\n",
      "/Users/parkdahye/miniforge3/envs/newenv/lib/python3.10/site-packages/IPython/core/pylabtools.py:151: UserWarning: Glyph 51116 (\\N{HANGUL SYLLABLE JAE}) missing from current font.\n",
      "  fig.canvas.print_figure(bytes_io, **kw)\n",
      "/Users/parkdahye/miniforge3/envs/newenv/lib/python3.10/site-packages/IPython/core/pylabtools.py:151: UserWarning: Glyph 51452 (\\N{HANGUL SYLLABLE JU}) missing from current font.\n",
      "  fig.canvas.print_figure(bytes_io, **kw)\n",
      "/Users/parkdahye/miniforge3/envs/newenv/lib/python3.10/site-packages/IPython/core/pylabtools.py:151: UserWarning: Glyph 48120 (\\N{HANGUL SYLLABLE MI}) missing from current font.\n",
      "  fig.canvas.print_figure(bytes_io, **kw)\n",
      "/Users/parkdahye/miniforge3/envs/newenv/lib/python3.10/site-packages/IPython/core/pylabtools.py:151: UserWarning: Glyph 47000 (\\N{HANGUL SYLLABLE RAE}) missing from current font.\n",
      "  fig.canvas.print_figure(bytes_io, **kw)\n",
      "/Users/parkdahye/miniforge3/envs/newenv/lib/python3.10/site-packages/IPython/core/pylabtools.py:151: UserWarning: Glyph 48176 (\\N{HANGUL SYLLABLE BAE}) missing from current font.\n",
      "  fig.canvas.print_figure(bytes_io, **kw)\n",
      "/Users/parkdahye/miniforge3/envs/newenv/lib/python3.10/site-packages/IPython/core/pylabtools.py:151: UserWarning: Glyph 44552 (\\N{HANGUL SYLLABLE GEUM}) missing from current font.\n",
      "  fig.canvas.print_figure(bytes_io, **kw)\n",
      "/Users/parkdahye/miniforge3/envs/newenv/lib/python3.10/site-packages/IPython/core/pylabtools.py:151: UserWarning: Glyph 49345 (\\N{HANGUL SYLLABLE SANG}) missing from current font.\n",
      "  fig.canvas.print_figure(bytes_io, **kw)\n",
      "/Users/parkdahye/miniforge3/envs/newenv/lib/python3.10/site-packages/IPython/core/pylabtools.py:151: UserWarning: Glyph 49849 (\\N{HANGUL SYLLABLE SEUNG}) missing from current font.\n",
      "  fig.canvas.print_figure(bytes_io, **kw)\n",
      "/Users/parkdahye/miniforge3/envs/newenv/lib/python3.10/site-packages/IPython/core/pylabtools.py:151: UserWarning: Glyph 47456 (\\N{HANGUL SYLLABLE RYUL}) missing from current font.\n",
      "  fig.canvas.print_figure(bytes_io, **kw)\n"
     ]
    },
    {
     "data": {
      "text/plain": "<Figure size 432x288 with 2 Axes>",
      "image/png": "[encoded data removed]"
     },
     "metadata": {
      "needs_background": "light"
     },
     "output_type": "display_data"
    }
   ],
   "source": [
    "sns.heatmap(data = finace_df.corr(), annot=True, fmt = '.2f', linewidths=0.5, cmap='Blues')"
   ],
   "metadata": {
    "collapsed": false,
    "pycharm": {
     "name": "#%%\n"
    }
   }
  },
  {
   "cell_type": "markdown",
   "source": [],
   "metadata": {
    "collapsed": false,
    "pycharm": {
     "name": "#%% md\n"
    }
   }
  },
  {
   "cell_type": "code",
   "execution_count": 26,
   "outputs": [
    {
     "data": {
      "text/plain": "           기업    연도       부채비율     매출액증가율     영업이익증가율   당기순이익증가율 매출액_상태  \\\n9      AJ네트웍스  2014  19.700517  25.121481    8.366221  35.378967   흑자지속   \n10     AJ네트웍스  2015  23.070472   4.209130   -3.661193   3.216892   흑자지속   \n11     AJ네트웍스  2016  20.539194  15.814609  -20.044810 -69.744998   흑자지속   \n12     AJ네트웍스  2017  18.994413 -48.574042 -175.685556  17.280774   흑자지속   \n13     AJ네트웍스  2018  19.098304  20.133671  205.435144  44.599353   흑자지속   \n...       ...   ...        ...        ...         ...        ...    ...   \n19397      희림  2018  38.442179   5.886840  -27.705934   6.427056   흑자지속   \n19398      희림  2019  33.914851   5.091191    6.006084 -10.800327   흑자지속   \n19399      희림  2020  35.014611  12.413798   20.890562  24.606422   흑자지속   \n19404      힘스  2017  72.028464        NaN   57.915341  59.139944    NaN   \n19407      힘스  2020  85.556186        NaN   69.152237  50.930528    NaN   \n\n      영업이익_상태 당기순이익_상태        ROA        ROE    현재_주가   미래_주가    배당금  \\\n9        흑자지속     흑자지속   1.951326  11.277778   7100.0  8300.0    0.0   \n10       흑자지속     흑자지속   1.680447   8.510652   8300.0  5800.0    0.0   \n11       흑자지속     흑자지속   0.820595   4.137914   5800.0  7170.0   60.0   \n12       흑자지속     흑자지속   0.877023   4.721198   7170.0  4810.0   86.0   \n13       적자전환     흑자지속   1.447255   7.938147   4810.0  2950.0  100.0   \n...       ...      ...        ...        ...      ...     ...    ...   \n19397    흑자지속     흑자지속   2.941597   7.661244   4725.0  3540.0    0.0   \n19398    흑자지속     흑자지속   2.209572   6.704890   3540.0  4875.0    0.0   \n19399    흑자지속     흑자지속   2.822088   8.340441   4875.0     NaN    0.0   \n19404    흑자지속     흑자지속  16.722845  32.533952   8115.0  7438.0  200.0   \n19407    흑자지속     흑자지속  18.934010  24.841243  13400.0     NaN  150.0   \n\n              PER  \n9        2.598829  \n10       3.471351  \n11      20.138889  \n12      22.406250  \n13     200.416667  \n...           ...  \n19397   15.340909  \n19398   11.683168  \n19399   12.532134  \n19404    3.093786  \n19407    8.804205  \n\n[8391 rows x 15 columns]",
      "text/html": "<div>\n<style scoped>\n    .dataframe tbody tr th:only-of-type {\n        vertical-align: middle;\n    }\n\n    .dataframe tbody tr th {\n        vertical-align: top;\n    }\n\n    .dataframe thead th {\n        text-align: right;\n    }\n</style>\n<table border=\"1\" class=\"dataframe\">\n  <thead>\n    <tr style=\"text-align: right;\">\n      <th></th>\n      <th>기업</th>\n      <th>연도</th>\n      <th>부채비율</th>\n      <th>매출액증가율</th>\n      <th>영업이익증가율</th>\n      <th>당기순이익증가율</th>\n      <th>매출액_상태</th>\n      <th>영업이익_상태</th>\n      <th>당기순이익_상태</th>\n      <th>ROA</th>\n      <th>ROE</th>\n      <th>현재_주가</th>\n      <th>미래_주가</th>\n      <th>배당금</th>\n      <th>PER</th>\n    </tr>\n  </thead>\n  <tbody>\n    <tr>\n      <th>9</th>\n      <td>AJ네트웍스</td>\n      <td>2014</td>\n      <td>19.700517</td>\n      <td>25.121481</td>\n      <td>8.366221</td>\n      <td>35.378967</td>\n      <td>흑자지속</td>\n      <td>흑자지속</td>\n      <td>흑자지속</td>\n      <td>1.951326</td>\n      <td>11.277778</td>\n      <td>7100.0</td>\n      <td>8300.0</td>\n      <td>0.0</td>\n      <td>2.598829</td>\n    </tr>\n    <tr>\n      <th>10</th>\n      <td>AJ네트웍스</td>\n      <td>2015</td>\n      <td>23.070472</td>\n      <td>4.209130</td>\n      <td>-3.661193</td>\n      <td>3.216892</td>\n      <td>흑자지속</td>\n      <td>흑자지속</td>\n      <td>흑자지속</td>\n      <td>1.680447</td>\n      <td>8.510652</td>\n      <td>8300.0</td>\n      <td>5800.0</td>\n      <td>0.0</td>\n      <td>3.471351</td>\n    </tr>\n    <tr>\n      <th>11</th>\n      <td>AJ네트웍스</td>\n      <td>2016</td>\n      <td>20.539194</td>\n      <td>15.814609</td>\n      <td>-20.044810</td>\n      <td>-69.744998</td>\n      <td>흑자지속</td>\n      <td>흑자지속</td>\n      <td>흑자지속</td>\n      <td>0.820595</td>\n      <td>4.137914</td>\n      <td>5800.0</td>\n      <td>7170.0</td>\n      <td>60.0</td>\n      <td>20.138889</td>\n    </tr>\n    <tr>\n      <th>12</th>\n      <td>AJ네트웍스</td>\n      <td>2017</td>\n      <td>18.994413</td>\n      <td>-48.574042</td>\n      <td>-175.685556</td>\n      <td>17.280774</td>\n      <td>흑자지속</td>\n      <td>흑자지속</td>\n      <td>흑자지속</td>\n      <td>0.877023</td>\n      <td>4.721198</td>\n      <td>7170.0</td>\n      <td>4810.0</td>\n      <td>86.0</td>\n      <td>22.406250</td>\n    </tr>\n    <tr>\n      <th>13</th>\n      <td>AJ네트웍스</td>\n      <td>2018</td>\n      <td>19.098304</td>\n      <td>20.133671</td>\n      <td>205.435144</td>\n      <td>44.599353</td>\n      <td>흑자지속</td>\n      <td>적자전환</td>\n      <td>흑자지속</td>\n      <td>1.447255</td>\n      <td>7.938147</td>\n      <td>4810.0</td>\n      <td>2950.0</td>\n      <td>100.0</td>\n      <td>200.416667</td>\n    </tr>\n    <tr>\n      <th>...</th>\n      <td>...</td>\n      <td>...</td>\n      <td>...</td>\n      <td>...</td>\n      <td>...</td>\n      <td>...</td>\n      <td>...</td>\n      <td>...</td>\n      <td>...</td>\n      <td>...</td>\n      <td>...</td>\n      <td>...</td>\n      <td>...</td>\n      <td>...</td>\n      <td>...</td>\n    </tr>\n    <tr>\n      <th>19397</th>\n      <td>희림</td>\n      <td>2018</td>\n      <td>38.442179</td>\n      <td>5.886840</td>\n      <td>-27.705934</td>\n      <td>6.427056</td>\n      <td>흑자지속</td>\n      <td>흑자지속</td>\n      <td>흑자지속</td>\n      <td>2.941597</td>\n      <td>7.661244</td>\n      <td>4725.0</td>\n      <td>3540.0</td>\n      <td>0.0</td>\n      <td>15.340909</td>\n    </tr>\n    <tr>\n      <th>19398</th>\n      <td>희림</td>\n      <td>2019</td>\n      <td>33.914851</td>\n      <td>5.091191</td>\n      <td>6.006084</td>\n      <td>-10.800327</td>\n      <td>흑자지속</td>\n      <td>흑자지속</td>\n      <td>흑자지속</td>\n      <td>2.209572</td>\n      <td>6.704890</td>\n      <td>3540.0</td>\n      <td>4875.0</td>\n      <td>0.0</td>\n      <td>11.683168</td>\n    </tr>\n    <tr>\n      <th>19399</th>\n      <td>희림</td>\n      <td>2020</td>\n      <td>35.014611</td>\n      <td>12.413798</td>\n      <td>20.890562</td>\n      <td>24.606422</td>\n      <td>흑자지속</td>\n      <td>흑자지속</td>\n      <td>흑자지속</td>\n      <td>2.822088</td>\n      <td>8.340441</td>\n      <td>4875.0</td>\n      <td>NaN</td>\n      <td>0.0</td>\n      <td>12.532134</td>\n    </tr>\n    <tr>\n      <th>19404</th>\n      <td>힘스</td>\n      <td>2017</td>\n      <td>72.028464</td>\n      <td>NaN</td>\n      <td>57.915341</td>\n      <td>59.139944</td>\n      <td>NaN</td>\n      <td>흑자지속</td>\n      <td>흑자지속</td>\n      <td>16.722845</td>\n      <td>32.533952</td>\n      <td>8115.0</td>\n      <td>7438.0</td>\n      <td>200.0</td>\n      <td>3.093786</td>\n    </tr>\n    <tr>\n      <th>19407</th>\n      <td>힘스</td>\n      <td>2020</td>\n      <td>85.556186</td>\n      <td>NaN</td>\n      <td>69.152237</td>\n      <td>50.930528</td>\n      <td>NaN</td>\n      <td>흑자지속</td>\n      <td>흑자지속</td>\n      <td>18.934010</td>\n      <td>24.841243</td>\n      <td>13400.0</td>\n      <td>NaN</td>\n      <td>150.0</td>\n      <td>8.804205</td>\n    </tr>\n  </tbody>\n</table>\n<p>8391 rows × 15 columns</p>\n</div>"
     },
     "execution_count": 26,
     "metadata": {},
     "output_type": "execute_result"
    }
   ],
   "source": [
    "finace_df[finace_df.당기순이익_상태 == '흑자지속' ]"
   ],
   "metadata": {
    "collapsed": false,
    "pycharm": {
     "name": "#%%\n"
    }
   }
  },
  {
   "cell_type": "code",
   "execution_count": 30,
   "outputs": [
    {
     "data": {
      "text/plain": "       기업    연도       부채비율     매출액증가율      영업이익증가율     당기순이익증가율 매출액_상태  \\\n0      3S  2013  70.612320        NaN          NaN          NaN   적자전환   \n1      3S  2014  60.288336 -11.687845   173.179128   114.728018   흑자지속   \n2      3S  2015  56.323967 -24.352916    38.894997    14.974005   흑자지속   \n3      3S  2016  59.923676   2.240210   453.409466   -64.511098   흑자지속   \n4      3S  2017  54.331315  10.359573   148.592592    61.341308   흑자지속   \n...    ..   ...        ...        ...          ...          ...    ...   \n19403  힘스  2016  45.998444        NaN          NaN          NaN    NaN   \n19404  힘스  2017  72.028464        NaN    57.915341    59.139944    NaN   \n19405  힘스  2018  80.625862        NaN  1014.435660  1285.956550    NaN   \n19406  힘스  2019  70.065289        NaN   122.184183   112.102500    NaN   \n19407  힘스  2020  85.556186        NaN    69.152237    50.930528    NaN   \n\n      영업이익_상태 당기순이익_상태        ROA        ROE    현재_주가    미래_주가    배당금  \\\n0        적자전환     적자전환   1.036271        NaN   6100.0   4350.0    NaN   \n1        적자전환     적자전환  -6.675781 -10.489496   4350.0   2535.0    NaN   \n2        적자지속     적자지속  -8.312107 -13.836280   2535.0   3595.0    NaN   \n3        흑자전환     적자지속  -5.893767  -9.383155   3595.0   2320.0    0.0   \n4        적자전환     적자지속 -16.392325 -27.605322   2320.0   2685.0    0.0   \n...       ...      ...        ...        ...      ...      ...    ...   \n19403     NaN      NaN  10.213367        NaN  16530.0   8115.0    0.0   \n19404    흑자지속     흑자지속  16.722845  32.533952   8115.0   7438.0  200.0   \n19405    적자전환     적자전환  -1.567183  -1.950691   7438.0   7488.0    0.0   \n19406    흑자전환     흑자전환   9.732740  14.897331   7488.0  13400.0  200.0   \n19407    흑자지속     흑자지속  18.934010  24.841243  13400.0      NaN  150.0   \n\n             PER      주가상승률  \n0            NaN -28.688525  \n1            NaN -41.724138  \n2            NaN  41.814596  \n3      43.313253 -35.465925  \n4      11.047619  15.732759  \n...          ...        ...  \n19403  10.726801 -50.907441  \n19404   3.093786  -8.342575  \n19405  38.739583   0.672224  \n19406   9.957447  78.952991  \n19407   8.804205        NaN  \n\n[19408 rows x 16 columns]",
      "text/html": "<div>\n<style scoped>\n    .dataframe tbody tr th:only-of-type {\n        vertical-align: middle;\n    }\n\n    .dataframe tbody tr th {\n        vertical-align: top;\n    }\n\n    .dataframe thead th {\n        text-align: right;\n    }\n</style>\n<table border=\"1\" class=\"dataframe\">\n  <thead>\n    <tr style=\"text-align: right;\">\n      <th></th>\n      <th>기업</th>\n      <th>연도</th>\n      <th>부채비율</th>\n      <th>매출액증가율</th>\n      <th>영업이익증가율</th>\n      <th>당기순이익증가율</th>\n      <th>매출액_상태</th>\n      <th>영업이익_상태</th>\n      <th>당기순이익_상태</th>\n      <th>ROA</th>\n      <th>ROE</th>\n      <th>현재_주가</th>\n      <th>미래_주가</th>\n      <th>배당금</th>\n      <th>PER</th>\n      <th>주가상승률</th>\n    </tr>\n  </thead>\n  <tbody>\n    <tr>\n      <th>0</th>\n      <td>3S</td>\n      <td>2013</td>\n      <td>70.612320</td>\n      <td>NaN</td>\n      <td>NaN</td>\n      <td>NaN</td>\n      <td>적자전환</td>\n      <td>적자전환</td>\n      <td>적자전환</td>\n      <td>1.036271</td>\n      <td>NaN</td>\n      <td>6100.0</td>\n      <td>4350.0</td>\n      <td>NaN</td>\n      <td>NaN</td>\n      <td>-28.688525</td>\n    </tr>\n    <tr>\n      <th>1</th>\n      <td>3S</td>\n      <td>2014</td>\n      <td>60.288336</td>\n      <td>-11.687845</td>\n      <td>173.179128</td>\n      <td>114.728018</td>\n      <td>흑자지속</td>\n      <td>적자전환</td>\n      <td>적자전환</td>\n      <td>-6.675781</td>\n      <td>-10.489496</td>\n      <td>4350.0</td>\n      <td>2535.0</td>\n      <td>NaN</td>\n      <td>NaN</td>\n      <td>-41.724138</td>\n    </tr>\n    <tr>\n      <th>2</th>\n      <td>3S</td>\n      <td>2015</td>\n      <td>56.323967</td>\n      <td>-24.352916</td>\n      <td>38.894997</td>\n      <td>14.974005</td>\n      <td>흑자지속</td>\n      <td>적자지속</td>\n      <td>적자지속</td>\n      <td>-8.312107</td>\n      <td>-13.836280</td>\n      <td>2535.0</td>\n      <td>3595.0</td>\n      <td>NaN</td>\n      <td>NaN</td>\n      <td>41.814596</td>\n    </tr>\n    <tr>\n      <th>3</th>\n      <td>3S</td>\n      <td>2016</td>\n      <td>59.923676</td>\n      <td>2.240210</td>\n      <td>453.409466</td>\n      <td>-64.511098</td>\n      <td>흑자지속</td>\n      <td>흑자전환</td>\n      <td>적자지속</td>\n      <td>-5.893767</td>\n      <td>-9.383155</td>\n      <td>3595.0</td>\n      <td>2320.0</td>\n      <td>0.0</td>\n      <td>43.313253</td>\n      <td>-35.465925</td>\n    </tr>\n    <tr>\n      <th>4</th>\n      <td>3S</td>\n      <td>2017</td>\n      <td>54.331315</td>\n      <td>10.359573</td>\n      <td>148.592592</td>\n      <td>61.341308</td>\n      <td>흑자지속</td>\n      <td>적자전환</td>\n      <td>적자지속</td>\n      <td>-16.392325</td>\n      <td>-27.605322</td>\n      <td>2320.0</td>\n      <td>2685.0</td>\n      <td>0.0</td>\n      <td>11.047619</td>\n      <td>15.732759</td>\n    </tr>\n    <tr>\n      <th>...</th>\n      <td>...</td>\n      <td>...</td>\n      <td>...</td>\n      <td>...</td>\n      <td>...</td>\n      <td>...</td>\n      <td>...</td>\n      <td>...</td>\n      <td>...</td>\n      <td>...</td>\n      <td>...</td>\n      <td>...</td>\n      <td>...</td>\n      <td>...</td>\n      <td>...</td>\n      <td>...</td>\n    </tr>\n    <tr>\n      <th>19403</th>\n      <td>힘스</td>\n      <td>2016</td>\n      <td>45.998444</td>\n      <td>NaN</td>\n      <td>NaN</td>\n      <td>NaN</td>\n      <td>NaN</td>\n      <td>NaN</td>\n      <td>NaN</td>\n      <td>10.213367</td>\n      <td>NaN</td>\n      <td>16530.0</td>\n      <td>8115.0</td>\n      <td>0.0</td>\n      <td>10.726801</td>\n      <td>-50.907441</td>\n    </tr>\n    <tr>\n      <th>19404</th>\n      <td>힘스</td>\n      <td>2017</td>\n      <td>72.028464</td>\n      <td>NaN</td>\n      <td>57.915341</td>\n      <td>59.139944</td>\n      <td>NaN</td>\n      <td>흑자지속</td>\n      <td>흑자지속</td>\n      <td>16.722845</td>\n      <td>32.533952</td>\n      <td>8115.0</td>\n      <td>7438.0</td>\n      <td>200.0</td>\n      <td>3.093786</td>\n      <td>-8.342575</td>\n    </tr>\n    <tr>\n      <th>19405</th>\n      <td>힘스</td>\n      <td>2018</td>\n      <td>80.625862</td>\n      <td>NaN</td>\n      <td>1014.435660</td>\n      <td>1285.956550</td>\n      <td>NaN</td>\n      <td>적자전환</td>\n      <td>적자전환</td>\n      <td>-1.567183</td>\n      <td>-1.950691</td>\n      <td>7438.0</td>\n      <td>7488.0</td>\n      <td>0.0</td>\n      <td>38.739583</td>\n      <td>0.672224</td>\n    </tr>\n    <tr>\n      <th>19406</th>\n      <td>힘스</td>\n      <td>2019</td>\n      <td>70.065289</td>\n      <td>NaN</td>\n      <td>122.184183</td>\n      <td>112.102500</td>\n      <td>NaN</td>\n      <td>흑자전환</td>\n      <td>흑자전환</td>\n      <td>9.732740</td>\n      <td>14.897331</td>\n      <td>7488.0</td>\n      <td>13400.0</td>\n      <td>200.0</td>\n      <td>9.957447</td>\n      <td>78.952991</td>\n    </tr>\n    <tr>\n      <th>19407</th>\n      <td>힘스</td>\n      <td>2020</td>\n      <td>85.556186</td>\n      <td>NaN</td>\n      <td>69.152237</td>\n      <td>50.930528</td>\n      <td>NaN</td>\n      <td>흑자지속</td>\n      <td>흑자지속</td>\n      <td>18.934010</td>\n      <td>24.841243</td>\n      <td>13400.0</td>\n      <td>NaN</td>\n      <td>150.0</td>\n      <td>8.804205</td>\n      <td>NaN</td>\n    </tr>\n  </tbody>\n</table>\n<p>19408 rows × 16 columns</p>\n</div>"
     },
     "execution_count": 30,
     "metadata": {},
     "output_type": "execute_result"
    }
   ],
   "source": [
    "finace_df\n"
   ],
   "metadata": {
    "collapsed": false,
    "pycharm": {
     "name": "#%%\n"
    }
   }
  },
  {
   "cell_type": "code",
   "execution_count": 2,
   "outputs": [],
   "source": [
    "# groupby 메서드\n"
   ],
   "metadata": {
    "collapsed": false,
    "pycharm": {
     "name": "#%%\n"
    }
   }
  },
  {
   "cell_type": "code",
   "execution_count": null,
   "outputs": [],
   "source": [],
   "metadata": {
    "collapsed": false,
    "pycharm": {
     "name": "#%%\n"
    }
   }
  },
  {
   "cell_type": "code",
   "execution_count": 112,
   "outputs": [
    {
     "data": {
      "text/plain": "기업\n3S        -8.306135\nAJ네트웍스    -5.405252\nAK홀딩스      2.674196\nAPS홀딩스    21.362347\nAP시스템     -3.742039\n            ...    \n흥국에프엔비    31.044655\n흥국화재       7.895654\n흥아해운      -9.107767\n희림        -1.243244\n힘스         2.910743\nName: 주가상승률, Length: 2352, dtype: float64"
     },
     "execution_count": 112,
     "metadata": {},
     "output_type": "execute_result"
    }
   ],
   "source": [
    "상승률 = finace_df.groupby('기업')['주가상승률'].mean()\n",
    "# .to_frame() #데이터프레임으로 보기\n",
    "상승률"
   ],
   "metadata": {
    "collapsed": false,
    "pycharm": {
     "name": "#%%\n"
    }
   }
  },
  {
   "cell_type": "code",
   "execution_count": 56,
   "outputs": [],
   "source": [
    "상승률.to_csv('평균주가상승률.csv', encoding='utf-8-sig')\n",
    "\n"
   ],
   "metadata": {
    "collapsed": false,
    "pycharm": {
     "name": "#%%\n"
    }
   }
  },
  {
   "cell_type": "code",
   "execution_count": 77,
   "outputs": [
    {
     "data": {
      "text/plain": "Index(['CBI', 'HMM', 'YG PLUS', '갤럭시아머니트리', '국일제지', '나이벡', '네이처셀', '넵튠', '노바텍',\n       '대주전자재료', '대한방직', '덕성', '데브시스터즈', '동성제약', '동신건설', '동원시스템즈', '동화기업',\n       '두산퓨얼셀', '랩지노믹스', '룽투코리아', '리더스코스메틱', '링크제니시스', '미래컴퍼니', '비덴트', '삼강엠앤티',\n       '삼화콘덴서', '새로닉스', '서연', '서연탑메탈', '서울옥션', '셀트리온제약', '솔루스첨단소재', '수산아이앤티',\n       '시디즈', '신라젠', '신세계건설', '신풍제약', '싸이토젠', '썸에이지', '씨아이에스', '씨에스윈드', '씨이랩',\n       '아래스', '아이크래프트', '아주IB투자', '알테오젠', '에브리봇', '에스앤에스텍', '에이스토리', '에이치엘비',\n       '에이텍', '에이텍티앤', '에코프로', '에프앤리퍼블릭', '에프에스티', '엔지켐생명과학', '엘앤에프',\n       '엘앤케이바이오', '엠로', '엠투엔', '오스코텍', '오킨스전자', '우리기술투자', '월덱스', '웹젠', '유니셈',\n       '유니슨', '유니테스트', '이엔드디', '이엔플러스', '이원컴포텍', '이즈미디어', '이지바이오', '중앙디앤엠',\n       '지어소프트', '칩스앤미디어', '컴투스', '케이씨티', '케이피엠테크', '코스모신소재', '코이즈', '키네마스터',\n       '토탈소프트', '티씨케이', '티에스이', '파크시스템스', '팬엔터테인먼트', '포스코케미칼', '폴루스바이오팜',\n       '한국화장품', '한국화장품제조', '한네트', '한미사이언스', '한주케미칼앤홀딩스', '한창', '현대바이오', '화승인더',\n       '효성첨단소재'],\n      dtype='object', name='기업')"
     },
     "execution_count": 77,
     "metadata": {},
     "output_type": "execute_result"
    }
   ],
   "source": [
    "incre  = 상승률[상승률 > 60].index\n",
    "incre"
   ],
   "metadata": {
    "collapsed": false,
    "pycharm": {
     "name": "#%%\n"
    }
   }
  },
  {
   "cell_type": "code",
   "execution_count": 78,
   "outputs": [
    {
     "data": {
      "text/plain": "['CBI',\n 'HMM',\n 'YG PLUS',\n '갤럭시아머니트리',\n '국일제지',\n '나이벡',\n '네이처셀',\n '넵튠',\n '노바텍',\n '대주전자재료',\n '대한방직',\n '덕성',\n '데브시스터즈',\n '동성제약',\n '동신건설',\n '동원시스템즈',\n '동화기업',\n '두산퓨얼셀',\n '랩지노믹스',\n '룽투코리아',\n '리더스코스메틱',\n '링크제니시스',\n '미래컴퍼니',\n '비덴트',\n '삼강엠앤티',\n '삼화콘덴서',\n '새로닉스',\n '서연',\n '서연탑메탈',\n '서울옥션',\n '셀트리온제약',\n '솔루스첨단소재',\n '수산아이앤티',\n '시디즈',\n '신라젠',\n '신세계건설',\n '신풍제약',\n '싸이토젠',\n '썸에이지',\n '씨아이에스',\n '씨에스윈드',\n '씨이랩',\n '아래스',\n '아이크래프트',\n '아주IB투자',\n '알테오젠',\n '에브리봇',\n '에스앤에스텍',\n '에이스토리',\n '에이치엘비',\n '에이텍',\n '에이텍티앤',\n '에코프로',\n '에프앤리퍼블릭',\n '에프에스티',\n '엔지켐생명과학',\n '엘앤에프',\n '엘앤케이바이오',\n '엠로',\n '엠투엔',\n '오스코텍',\n '오킨스전자',\n '우리기술투자',\n '월덱스',\n '웹젠',\n '유니셈',\n '유니슨',\n '유니테스트',\n '이엔드디',\n '이엔플러스',\n '이원컴포텍',\n '이즈미디어',\n '이지바이오',\n '중앙디앤엠',\n '지어소프트',\n '칩스앤미디어',\n '컴투스',\n '케이씨티',\n '케이피엠테크',\n '코스모신소재',\n '코이즈',\n '키네마스터',\n '토탈소프트',\n '티씨케이',\n '티에스이',\n '파크시스템스',\n '팬엔터테인먼트',\n '포스코케미칼',\n '폴루스바이오팜',\n '한국화장품',\n '한국화장품제조',\n '한네트',\n '한미사이언스',\n '한주케미칼앤홀딩스',\n '한창',\n '현대바이오',\n '화승인더',\n '효성첨단소재']"
     },
     "execution_count": 78,
     "metadata": {},
     "output_type": "execute_result"
    }
   ],
   "source": [
    "incre.list = list(incre)\n",
    "type(incre.list)\n",
    "incre.list"
   ],
   "metadata": {
    "collapsed": false,
    "pycharm": {
     "name": "#%%\n"
    }
   }
  },
  {
   "cell_type": "code",
   "execution_count": 81,
   "outputs": [],
   "source": [
    "finace_df = finace_df.reset_index()"
   ],
   "metadata": {
    "collapsed": false,
    "pycharm": {
     "name": "#%%\n"
    }
   }
  },
  {
   "cell_type": "code",
   "execution_count": 86,
   "outputs": [
    {
     "name": "stdout",
     "output_type": "stream",
     "text": [
      "<class 'pandas.core.frame.DataFrame'>\n",
      "RangeIndex: 19408 entries, 0 to 19407\n",
      "Data columns (total 15 columns):\n",
      " #   Column    Non-Null Count  Dtype  \n",
      "---  ------    --------------  -----  \n",
      " 0   기업        19408 non-null  object \n",
      " 1   연도        19408 non-null  int64  \n",
      " 2   부채비율      15575 non-null  float64\n",
      " 3   매출액증가율    13276 non-null  float64\n",
      " 4   영업이익증가율   13486 non-null  float64\n",
      " 5   당기순이익증가율  13383 non-null  float64\n",
      " 6   매출액_상태    14914 non-null  object \n",
      " 7   영업이익_상태   15109 non-null  object \n",
      " 8   당기순이익_상태  15000 non-null  object \n",
      " 9   ROA       15467 non-null  float64\n",
      " 10  ROE       13391 non-null  float64\n",
      " 11  현재_주가     17936 non-null  float64\n",
      " 12  미래_주가     15758 non-null  float64\n",
      " 13  배당금       13800 non-null  float64\n",
      " 14  PER       12994 non-null  float64\n",
      "dtypes: float64(10), int64(1), object(4)\n",
      "memory usage: 2.2+ MB\n"
     ]
    }
   ],
   "source": [
    "finace_df.info()"
   ],
   "metadata": {
    "collapsed": false,
    "pycharm": {
     "name": "#%%\n"
    }
   }
  },
  {
   "cell_type": "code",
   "execution_count": 95,
   "outputs": [
    {
     "data": {
      "text/plain": "      연도       부채비율     매출액증가율      영업이익증가율     당기순이익증가율 매출액_상태 영업이익_상태  \\\n기업                                                                        \n3S  2013  70.612320        NaN          NaN          NaN   적자전환    적자전환   \n3S  2014  60.288336 -11.687845   173.179128   114.728018   흑자지속    적자전환   \n3S  2015  56.323967 -24.352916    38.894997    14.974005   흑자지속    적자지속   \n3S  2016  59.923676   2.240210   453.409466   -64.511098   흑자지속    흑자전환   \n3S  2017  54.331315  10.359573   148.592592    61.341308   흑자지속    적자전환   \n..   ...        ...        ...          ...          ...    ...     ...   \n힘스  2016  45.998444        NaN          NaN          NaN    NaN     NaN   \n힘스  2017  72.028464        NaN    57.915341    59.139944    NaN    흑자지속   \n힘스  2018  80.625862        NaN  1014.435660  1285.956550    NaN    적자전환   \n힘스  2019  70.065289        NaN   122.184183   112.102500    NaN    흑자전환   \n힘스  2020  85.556186        NaN    69.152237    50.930528    NaN    흑자지속   \n\n   당기순이익_상태        ROA        ROE    현재_주가    미래_주가    배당금        PER  \\\n기업                                                                      \n3S     적자전환   1.036271        NaN   6100.0   4350.0    NaN        NaN   \n3S     적자전환  -6.675781 -10.489496   4350.0   2535.0    NaN        NaN   \n3S     적자지속  -8.312107 -13.836280   2535.0   3595.0    NaN        NaN   \n3S     적자지속  -5.893767  -9.383155   3595.0   2320.0    0.0  43.313253   \n3S     적자지속 -16.392325 -27.605322   2320.0   2685.0    0.0  11.047619   \n..      ...        ...        ...      ...      ...    ...        ...   \n힘스      NaN  10.213367        NaN  16530.0   8115.0    0.0  10.726801   \n힘스     흑자지속  16.722845  32.533952   8115.0   7438.0  200.0   3.093786   \n힘스     적자전환  -1.567183  -1.950691   7438.0   7488.0    0.0  38.739583   \n힘스     흑자전환   9.732740  14.897331   7488.0  13400.0  200.0   9.957447   \n힘스     흑자지속  18.934010  24.841243  13400.0      NaN  150.0   8.804205   \n\n        주가상승률  \n기업             \n3S -28.688525  \n3S -41.724138  \n3S  41.814596  \n3S -35.465925  \n3S  15.732759  \n..        ...  \n힘스 -50.907441  \n힘스  -8.342575  \n힘스   0.672224  \n힘스  78.952991  \n힘스        NaN  \n\n[19408 rows x 15 columns]",
      "text/html": "<div>\n<style scoped>\n    .dataframe tbody tr th:only-of-type {\n        vertical-align: middle;\n    }\n\n    .dataframe tbody tr th {\n        vertical-align: top;\n    }\n\n    .dataframe thead th {\n        text-align: right;\n    }\n</style>\n<table border=\"1\" class=\"dataframe\">\n  <thead>\n    <tr style=\"text-align: right;\">\n      <th></th>\n      <th>연도</th>\n      <th>부채비율</th>\n      <th>매출액증가율</th>\n      <th>영업이익증가율</th>\n      <th>당기순이익증가율</th>\n      <th>매출액_상태</th>\n      <th>영업이익_상태</th>\n      <th>당기순이익_상태</th>\n      <th>ROA</th>\n      <th>ROE</th>\n      <th>현재_주가</th>\n      <th>미래_주가</th>\n      <th>배당금</th>\n      <th>PER</th>\n      <th>주가상승률</th>\n    </tr>\n    <tr>\n      <th>기업</th>\n      <th></th>\n      <th></th>\n      <th></th>\n      <th></th>\n      <th></th>\n      <th></th>\n      <th></th>\n      <th></th>\n      <th></th>\n      <th></th>\n      <th></th>\n      <th></th>\n      <th></th>\n      <th></th>\n      <th></th>\n    </tr>\n  </thead>\n  <tbody>\n    <tr>\n      <th>3S</th>\n      <td>2013</td>\n      <td>70.612320</td>\n      <td>NaN</td>\n      <td>NaN</td>\n      <td>NaN</td>\n      <td>적자전환</td>\n      <td>적자전환</td>\n      <td>적자전환</td>\n      <td>1.036271</td>\n      <td>NaN</td>\n      <td>6100.0</td>\n      <td>4350.0</td>\n      <td>NaN</td>\n      <td>NaN</td>\n      <td>-28.688525</td>\n    </tr>\n    <tr>\n      <th>3S</th>\n      <td>2014</td>\n      <td>60.288336</td>\n      <td>-11.687845</td>\n      <td>173.179128</td>\n      <td>114.728018</td>\n      <td>흑자지속</td>\n      <td>적자전환</td>\n      <td>적자전환</td>\n      <td>-6.675781</td>\n      <td>-10.489496</td>\n      <td>4350.0</td>\n      <td>2535.0</td>\n      <td>NaN</td>\n      <td>NaN</td>\n      <td>-41.724138</td>\n    </tr>\n    <tr>\n      <th>3S</th>\n      <td>2015</td>\n      <td>56.323967</td>\n      <td>-24.352916</td>\n      <td>38.894997</td>\n      <td>14.974005</td>\n      <td>흑자지속</td>\n      <td>적자지속</td>\n      <td>적자지속</td>\n      <td>-8.312107</td>\n      <td>-13.836280</td>\n      <td>2535.0</td>\n      <td>3595.0</td>\n      <td>NaN</td>\n      <td>NaN</td>\n      <td>41.814596</td>\n    </tr>\n    <tr>\n      <th>3S</th>\n      <td>2016</td>\n      <td>59.923676</td>\n      <td>2.240210</td>\n      <td>453.409466</td>\n      <td>-64.511098</td>\n      <td>흑자지속</td>\n      <td>흑자전환</td>\n      <td>적자지속</td>\n      <td>-5.893767</td>\n      <td>-9.383155</td>\n      <td>3595.0</td>\n      <td>2320.0</td>\n      <td>0.0</td>\n      <td>43.313253</td>\n      <td>-35.465925</td>\n    </tr>\n    <tr>\n      <th>3S</th>\n      <td>2017</td>\n      <td>54.331315</td>\n      <td>10.359573</td>\n      <td>148.592592</td>\n      <td>61.341308</td>\n      <td>흑자지속</td>\n      <td>적자전환</td>\n      <td>적자지속</td>\n      <td>-16.392325</td>\n      <td>-27.605322</td>\n      <td>2320.0</td>\n      <td>2685.0</td>\n      <td>0.0</td>\n      <td>11.047619</td>\n      <td>15.732759</td>\n    </tr>\n    <tr>\n      <th>...</th>\n      <td>...</td>\n      <td>...</td>\n      <td>...</td>\n      <td>...</td>\n      <td>...</td>\n      <td>...</td>\n      <td>...</td>\n      <td>...</td>\n      <td>...</td>\n      <td>...</td>\n      <td>...</td>\n      <td>...</td>\n      <td>...</td>\n      <td>...</td>\n      <td>...</td>\n    </tr>\n    <tr>\n      <th>힘스</th>\n      <td>2016</td>\n      <td>45.998444</td>\n      <td>NaN</td>\n      <td>NaN</td>\n      <td>NaN</td>\n      <td>NaN</td>\n      <td>NaN</td>\n      <td>NaN</td>\n      <td>10.213367</td>\n      <td>NaN</td>\n      <td>16530.0</td>\n      <td>8115.0</td>\n      <td>0.0</td>\n      <td>10.726801</td>\n      <td>-50.907441</td>\n    </tr>\n    <tr>\n      <th>힘스</th>\n      <td>2017</td>\n      <td>72.028464</td>\n      <td>NaN</td>\n      <td>57.915341</td>\n      <td>59.139944</td>\n      <td>NaN</td>\n      <td>흑자지속</td>\n      <td>흑자지속</td>\n      <td>16.722845</td>\n      <td>32.533952</td>\n      <td>8115.0</td>\n      <td>7438.0</td>\n      <td>200.0</td>\n      <td>3.093786</td>\n      <td>-8.342575</td>\n    </tr>\n    <tr>\n      <th>힘스</th>\n      <td>2018</td>\n      <td>80.625862</td>\n      <td>NaN</td>\n      <td>1014.435660</td>\n      <td>1285.956550</td>\n      <td>NaN</td>\n      <td>적자전환</td>\n      <td>적자전환</td>\n      <td>-1.567183</td>\n      <td>-1.950691</td>\n      <td>7438.0</td>\n      <td>7488.0</td>\n      <td>0.0</td>\n      <td>38.739583</td>\n      <td>0.672224</td>\n    </tr>\n    <tr>\n      <th>힘스</th>\n      <td>2019</td>\n      <td>70.065289</td>\n      <td>NaN</td>\n      <td>122.184183</td>\n      <td>112.102500</td>\n      <td>NaN</td>\n      <td>흑자전환</td>\n      <td>흑자전환</td>\n      <td>9.732740</td>\n      <td>14.897331</td>\n      <td>7488.0</td>\n      <td>13400.0</td>\n      <td>200.0</td>\n      <td>9.957447</td>\n      <td>78.952991</td>\n    </tr>\n    <tr>\n      <th>힘스</th>\n      <td>2020</td>\n      <td>85.556186</td>\n      <td>NaN</td>\n      <td>69.152237</td>\n      <td>50.930528</td>\n      <td>NaN</td>\n      <td>흑자지속</td>\n      <td>흑자지속</td>\n      <td>18.934010</td>\n      <td>24.841243</td>\n      <td>13400.0</td>\n      <td>NaN</td>\n      <td>150.0</td>\n      <td>8.804205</td>\n      <td>NaN</td>\n    </tr>\n  </tbody>\n</table>\n<p>19408 rows × 15 columns</p>\n</div>"
     },
     "execution_count": 95,
     "metadata": {},
     "output_type": "execute_result"
    }
   ],
   "source": [
    "finace_df2 = finace_df.set_index('기업')\n",
    "finace_df2"
   ],
   "metadata": {
    "collapsed": false,
    "pycharm": {
     "name": "#%%\n"
    }
   }
  },
  {
   "cell_type": "code",
   "execution_count": 84,
   "outputs": [
    {
     "ename": "KeyError",
     "evalue": "'CBI'",
     "output_type": "error",
     "traceback": [
      "\u001B[0;31m---------------------------------------------------------------------------\u001B[0m",
      "\u001B[0;31mKeyError\u001B[0m                                  Traceback (most recent call last)",
      "Input \u001B[0;32mIn [84]\u001B[0m, in \u001B[0;36m<cell line: 1>\u001B[0;34m()\u001B[0m\n\u001B[1;32m      1\u001B[0m \u001B[38;5;28;01mfor\u001B[39;00m i \u001B[38;5;129;01min\u001B[39;00m incre\u001B[38;5;241m.\u001B[39mlist:\n\u001B[0;32m----> 2\u001B[0m     data \u001B[38;5;241m=\u001B[39m \u001B[43mfinace_df\u001B[49m\u001B[38;5;241;43m.\u001B[39;49m\u001B[43mloc\u001B[49m\u001B[43m[\u001B[49m\u001B[43mi\u001B[49m\u001B[43m]\u001B[49m\n\u001B[1;32m      3\u001B[0m     \u001B[38;5;28mprint\u001B[39m(data)\n",
      "File \u001B[0;32m~/miniforge3/envs/newenv/lib/python3.10/site-packages/pandas/core/indexing.py:967\u001B[0m, in \u001B[0;36m_LocationIndexer.__getitem__\u001B[0;34m(self, key)\u001B[0m\n\u001B[1;32m    964\u001B[0m axis \u001B[38;5;241m=\u001B[39m \u001B[38;5;28mself\u001B[39m\u001B[38;5;241m.\u001B[39maxis \u001B[38;5;129;01mor\u001B[39;00m \u001B[38;5;241m0\u001B[39m\n\u001B[1;32m    966\u001B[0m maybe_callable \u001B[38;5;241m=\u001B[39m com\u001B[38;5;241m.\u001B[39mapply_if_callable(key, \u001B[38;5;28mself\u001B[39m\u001B[38;5;241m.\u001B[39mobj)\n\u001B[0;32m--> 967\u001B[0m \u001B[38;5;28;01mreturn\u001B[39;00m \u001B[38;5;28;43mself\u001B[39;49m\u001B[38;5;241;43m.\u001B[39;49m\u001B[43m_getitem_axis\u001B[49m\u001B[43m(\u001B[49m\u001B[43mmaybe_callable\u001B[49m\u001B[43m,\u001B[49m\u001B[43m \u001B[49m\u001B[43maxis\u001B[49m\u001B[38;5;241;43m=\u001B[39;49m\u001B[43maxis\u001B[49m\u001B[43m)\u001B[49m\n",
      "File \u001B[0;32m~/miniforge3/envs/newenv/lib/python3.10/site-packages/pandas/core/indexing.py:1202\u001B[0m, in \u001B[0;36m_LocIndexer._getitem_axis\u001B[0;34m(self, key, axis)\u001B[0m\n\u001B[1;32m   1200\u001B[0m \u001B[38;5;66;03m# fall thru to straight lookup\u001B[39;00m\n\u001B[1;32m   1201\u001B[0m \u001B[38;5;28mself\u001B[39m\u001B[38;5;241m.\u001B[39m_validate_key(key, axis)\n\u001B[0;32m-> 1202\u001B[0m \u001B[38;5;28;01mreturn\u001B[39;00m \u001B[38;5;28;43mself\u001B[39;49m\u001B[38;5;241;43m.\u001B[39;49m\u001B[43m_get_label\u001B[49m\u001B[43m(\u001B[49m\u001B[43mkey\u001B[49m\u001B[43m,\u001B[49m\u001B[43m \u001B[49m\u001B[43maxis\u001B[49m\u001B[38;5;241;43m=\u001B[39;49m\u001B[43maxis\u001B[49m\u001B[43m)\u001B[49m\n",
      "File \u001B[0;32m~/miniforge3/envs/newenv/lib/python3.10/site-packages/pandas/core/indexing.py:1153\u001B[0m, in \u001B[0;36m_LocIndexer._get_label\u001B[0;34m(self, label, axis)\u001B[0m\n\u001B[1;32m   1151\u001B[0m \u001B[38;5;28;01mdef\u001B[39;00m \u001B[38;5;21m_get_label\u001B[39m(\u001B[38;5;28mself\u001B[39m, label, axis: \u001B[38;5;28mint\u001B[39m):\n\u001B[1;32m   1152\u001B[0m     \u001B[38;5;66;03m# GH#5667 this will fail if the label is not present in the axis.\u001B[39;00m\n\u001B[0;32m-> 1153\u001B[0m     \u001B[38;5;28;01mreturn\u001B[39;00m \u001B[38;5;28;43mself\u001B[39;49m\u001B[38;5;241;43m.\u001B[39;49m\u001B[43mobj\u001B[49m\u001B[38;5;241;43m.\u001B[39;49m\u001B[43mxs\u001B[49m\u001B[43m(\u001B[49m\u001B[43mlabel\u001B[49m\u001B[43m,\u001B[49m\u001B[43m \u001B[49m\u001B[43maxis\u001B[49m\u001B[38;5;241;43m=\u001B[39;49m\u001B[43maxis\u001B[49m\u001B[43m)\u001B[49m\n",
      "File \u001B[0;32m~/miniforge3/envs/newenv/lib/python3.10/site-packages/pandas/core/generic.py:3864\u001B[0m, in \u001B[0;36mNDFrame.xs\u001B[0;34m(self, key, axis, level, drop_level)\u001B[0m\n\u001B[1;32m   3862\u001B[0m             new_index \u001B[38;5;241m=\u001B[39m index[loc]\n\u001B[1;32m   3863\u001B[0m \u001B[38;5;28;01melse\u001B[39;00m:\n\u001B[0;32m-> 3864\u001B[0m     loc \u001B[38;5;241m=\u001B[39m \u001B[43mindex\u001B[49m\u001B[38;5;241;43m.\u001B[39;49m\u001B[43mget_loc\u001B[49m\u001B[43m(\u001B[49m\u001B[43mkey\u001B[49m\u001B[43m)\u001B[49m\n\u001B[1;32m   3866\u001B[0m     \u001B[38;5;28;01mif\u001B[39;00m \u001B[38;5;28misinstance\u001B[39m(loc, np\u001B[38;5;241m.\u001B[39mndarray):\n\u001B[1;32m   3867\u001B[0m         \u001B[38;5;28;01mif\u001B[39;00m loc\u001B[38;5;241m.\u001B[39mdtype \u001B[38;5;241m==\u001B[39m np\u001B[38;5;241m.\u001B[39mbool_:\n",
      "File \u001B[0;32m~/miniforge3/envs/newenv/lib/python3.10/site-packages/pandas/core/indexes/range.py:389\u001B[0m, in \u001B[0;36mRangeIndex.get_loc\u001B[0;34m(self, key, method, tolerance)\u001B[0m\n\u001B[1;32m    387\u001B[0m             \u001B[38;5;28;01mraise\u001B[39;00m \u001B[38;5;167;01mKeyError\u001B[39;00m(key) \u001B[38;5;28;01mfrom\u001B[39;00m \u001B[38;5;21;01merr\u001B[39;00m\n\u001B[1;32m    388\u001B[0m     \u001B[38;5;28mself\u001B[39m\u001B[38;5;241m.\u001B[39m_check_indexing_error(key)\n\u001B[0;32m--> 389\u001B[0m     \u001B[38;5;28;01mraise\u001B[39;00m \u001B[38;5;167;01mKeyError\u001B[39;00m(key)\n\u001B[1;32m    390\u001B[0m \u001B[38;5;28;01mreturn\u001B[39;00m \u001B[38;5;28msuper\u001B[39m()\u001B[38;5;241m.\u001B[39mget_loc(key, method\u001B[38;5;241m=\u001B[39mmethod, tolerance\u001B[38;5;241m=\u001B[39mtolerance)\n",
      "\u001B[0;31mKeyError\u001B[0m: 'CBI'"
     ]
    }
   ],
   "source": [
    "\n",
    "for i in incre.list:\n",
    "    data = finace_df.loc[i]\n",
    "    print(data)\n"
   ],
   "metadata": {
    "collapsed": false,
    "pycharm": {
     "name": "#%%\n"
    }
   }
  },
  {
   "cell_type": "code",
   "execution_count": 96,
   "outputs": [],
   "source": [
    "incre_df = finace_df2.loc[incre.list]"
   ],
   "metadata": {
    "collapsed": false,
    "pycharm": {
     "name": "#%%\n"
    }
   }
  },
  {
   "cell_type": "code",
   "execution_count": 97,
   "outputs": [
    {
     "data": {
      "text/plain": "         기업    연도       부채비율      매출액증가율     영업이익증가율    당기순이익증가율 매출액_상태  \\\n0       CBI  2013  45.517114         NaN         NaN         NaN   흑자지속   \n1       CBI  2014  46.574208   -0.858953    9.374222  -56.292894   흑자지속   \n2       CBI  2015  51.489380  -16.391019  -53.865398  -62.211931   흑자지속   \n3       CBI  2016  55.350398   -0.785005 -435.352724  -35.665295   흑자지속   \n4       CBI  2017  59.840029    5.835095  146.749077  145.380697   흑자지속   \n..      ...   ...        ...         ...         ...         ...    ...   \n796  효성첨단소재  2016        NaN         NaN         NaN         NaN    NaN   \n797  효성첨단소재  2017        NaN         NaN         NaN         NaN   적자지속   \n798  효성첨단소재  2018  18.385461  100.000000  100.000000  100.000000   흑자전환   \n799  효성첨단소재  2019  16.016780   42.118229   59.487018   55.119811   흑자지속   \n800  효성첨단소재  2020  16.036010  -27.519715 -362.828924  876.867598   흑자지속   \n\n    영업이익_상태 당기순이익_상태       ROA        ROE     현재_주가     미래_주가   배당금  \\\n0      흑자지속     흑자지속  2.442503        NaN     441.0     494.0  50.0   \n1      흑자지속     흑자지속  1.584943   3.418144     494.0     721.0  50.0   \n2      흑자지속     흑자지속  0.970557   1.985742     721.0     620.0  50.0   \n3      흑자지속     흑자지속  0.694476   1.318624     620.0     482.0   0.0   \n4      적자전환     적자전환 -1.645763  -2.757521     482.0     511.0   0.0   \n..      ...      ...       ...        ...       ...       ...   ...   \n796     NaN      NaN       NaN        NaN  160000.0  160000.0   0.0   \n797    적자지속     적자지속       NaN        NaN  160000.0  129500.0   0.0   \n798    흑자전환     적자지속 -0.936787 -10.190523  129500.0   61100.0   0.0   \n799    흑자지속     적자지속 -2.090275 -12.142743   61100.0  371500.0   0.0   \n800    흑자지속     흑자전환  0.286557   1.731771  371500.0       NaN   0.0   \n\n              PER       주가상승률  \n0        1.436482   12.018141  \n1        3.166667   45.951417  \n2        7.210000  -14.008322  \n3             NaN  -22.258065  \n4             NaN    6.016598  \n..            ...         ...  \n796           NaN    0.000000  \n797           NaN  -19.062500  \n798     21.878696  -52.818533  \n799      3.900664  508.019640  \n800  20638.888890         NaN  \n\n[801 rows x 16 columns]",
      "text/html": "<div>\n<style scoped>\n    .dataframe tbody tr th:only-of-type {\n        vertical-align: middle;\n    }\n\n    .dataframe tbody tr th {\n        vertical-align: top;\n    }\n\n    .dataframe thead th {\n        text-align: right;\n    }\n</style>\n<table border=\"1\" class=\"dataframe\">\n  <thead>\n    <tr style=\"text-align: right;\">\n      <th></th>\n      <th>기업</th>\n      <th>연도</th>\n      <th>부채비율</th>\n      <th>매출액증가율</th>\n      <th>영업이익증가율</th>\n      <th>당기순이익증가율</th>\n      <th>매출액_상태</th>\n      <th>영업이익_상태</th>\n      <th>당기순이익_상태</th>\n      <th>ROA</th>\n      <th>ROE</th>\n      <th>현재_주가</th>\n      <th>미래_주가</th>\n      <th>배당금</th>\n      <th>PER</th>\n      <th>주가상승률</th>\n    </tr>\n  </thead>\n  <tbody>\n    <tr>\n      <th>0</th>\n      <td>CBI</td>\n      <td>2013</td>\n      <td>45.517114</td>\n      <td>NaN</td>\n      <td>NaN</td>\n      <td>NaN</td>\n      <td>흑자지속</td>\n      <td>흑자지속</td>\n      <td>흑자지속</td>\n      <td>2.442503</td>\n      <td>NaN</td>\n      <td>441.0</td>\n      <td>494.0</td>\n      <td>50.0</td>\n      <td>1.436482</td>\n      <td>12.018141</td>\n    </tr>\n    <tr>\n      <th>1</th>\n      <td>CBI</td>\n      <td>2014</td>\n      <td>46.574208</td>\n      <td>-0.858953</td>\n      <td>9.374222</td>\n      <td>-56.292894</td>\n      <td>흑자지속</td>\n      <td>흑자지속</td>\n      <td>흑자지속</td>\n      <td>1.584943</td>\n      <td>3.418144</td>\n      <td>494.0</td>\n      <td>721.0</td>\n      <td>50.0</td>\n      <td>3.166667</td>\n      <td>45.951417</td>\n    </tr>\n    <tr>\n      <th>2</th>\n      <td>CBI</td>\n      <td>2015</td>\n      <td>51.489380</td>\n      <td>-16.391019</td>\n      <td>-53.865398</td>\n      <td>-62.211931</td>\n      <td>흑자지속</td>\n      <td>흑자지속</td>\n      <td>흑자지속</td>\n      <td>0.970557</td>\n      <td>1.985742</td>\n      <td>721.0</td>\n      <td>620.0</td>\n      <td>50.0</td>\n      <td>7.210000</td>\n      <td>-14.008322</td>\n    </tr>\n    <tr>\n      <th>3</th>\n      <td>CBI</td>\n      <td>2016</td>\n      <td>55.350398</td>\n      <td>-0.785005</td>\n      <td>-435.352724</td>\n      <td>-35.665295</td>\n      <td>흑자지속</td>\n      <td>흑자지속</td>\n      <td>흑자지속</td>\n      <td>0.694476</td>\n      <td>1.318624</td>\n      <td>620.0</td>\n      <td>482.0</td>\n      <td>0.0</td>\n      <td>NaN</td>\n      <td>-22.258065</td>\n    </tr>\n    <tr>\n      <th>4</th>\n      <td>CBI</td>\n      <td>2017</td>\n      <td>59.840029</td>\n      <td>5.835095</td>\n      <td>146.749077</td>\n      <td>145.380697</td>\n      <td>흑자지속</td>\n      <td>적자전환</td>\n      <td>적자전환</td>\n      <td>-1.645763</td>\n      <td>-2.757521</td>\n      <td>482.0</td>\n      <td>511.0</td>\n      <td>0.0</td>\n      <td>NaN</td>\n      <td>6.016598</td>\n    </tr>\n    <tr>\n      <th>...</th>\n      <td>...</td>\n      <td>...</td>\n      <td>...</td>\n      <td>...</td>\n      <td>...</td>\n      <td>...</td>\n      <td>...</td>\n      <td>...</td>\n      <td>...</td>\n      <td>...</td>\n      <td>...</td>\n      <td>...</td>\n      <td>...</td>\n      <td>...</td>\n      <td>...</td>\n      <td>...</td>\n    </tr>\n    <tr>\n      <th>796</th>\n      <td>효성첨단소재</td>\n      <td>2016</td>\n      <td>NaN</td>\n      <td>NaN</td>\n      <td>NaN</td>\n      <td>NaN</td>\n      <td>NaN</td>\n      <td>NaN</td>\n      <td>NaN</td>\n      <td>NaN</td>\n      <td>NaN</td>\n      <td>160000.0</td>\n      <td>160000.0</td>\n      <td>0.0</td>\n      <td>NaN</td>\n      <td>0.000000</td>\n    </tr>\n    <tr>\n      <th>797</th>\n      <td>효성첨단소재</td>\n      <td>2017</td>\n      <td>NaN</td>\n      <td>NaN</td>\n      <td>NaN</td>\n      <td>NaN</td>\n      <td>적자지속</td>\n      <td>적자지속</td>\n      <td>적자지속</td>\n      <td>NaN</td>\n      <td>NaN</td>\n      <td>160000.0</td>\n      <td>129500.0</td>\n      <td>0.0</td>\n      <td>NaN</td>\n      <td>-19.062500</td>\n    </tr>\n    <tr>\n      <th>798</th>\n      <td>효성첨단소재</td>\n      <td>2018</td>\n      <td>18.385461</td>\n      <td>100.000000</td>\n      <td>100.000000</td>\n      <td>100.000000</td>\n      <td>흑자전환</td>\n      <td>흑자전환</td>\n      <td>적자지속</td>\n      <td>-0.936787</td>\n      <td>-10.190523</td>\n      <td>129500.0</td>\n      <td>61100.0</td>\n      <td>0.0</td>\n      <td>21.878696</td>\n      <td>-52.818533</td>\n    </tr>\n    <tr>\n      <th>799</th>\n      <td>효성첨단소재</td>\n      <td>2019</td>\n      <td>16.016780</td>\n      <td>42.118229</td>\n      <td>59.487018</td>\n      <td>55.119811</td>\n      <td>흑자지속</td>\n      <td>흑자지속</td>\n      <td>적자지속</td>\n      <td>-2.090275</td>\n      <td>-12.142743</td>\n      <td>61100.0</td>\n      <td>371500.0</td>\n      <td>0.0</td>\n      <td>3.900664</td>\n      <td>508.019640</td>\n    </tr>\n    <tr>\n      <th>800</th>\n      <td>효성첨단소재</td>\n      <td>2020</td>\n      <td>16.036010</td>\n      <td>-27.519715</td>\n      <td>-362.828924</td>\n      <td>876.867598</td>\n      <td>흑자지속</td>\n      <td>흑자지속</td>\n      <td>흑자전환</td>\n      <td>0.286557</td>\n      <td>1.731771</td>\n      <td>371500.0</td>\n      <td>NaN</td>\n      <td>0.0</td>\n      <td>20638.888890</td>\n      <td>NaN</td>\n    </tr>\n  </tbody>\n</table>\n<p>801 rows × 16 columns</p>\n</div>"
     },
     "execution_count": 97,
     "metadata": {},
     "output_type": "execute_result"
    }
   ],
   "source": [
    "incre_df = incre_df.reset_index()\n",
    "incre_df"
   ],
   "metadata": {
    "collapsed": false,
    "pycharm": {
     "name": "#%%\n"
    }
   }
  },
  {
   "cell_type": "code",
   "execution_count": null,
   "outputs": [],
   "source": [
    "#피봇테이블 df.pivot_table\n",
    "weather_tidy = weather_new.pivot_table(\n",
    "index=['id','year','month','day'],\n",
    "columns ='element',  # 'element'의 값이 열이 됨 ! !\n",
    "values = 'temp')"
   ],
   "metadata": {
    "collapsed": false,
    "pycharm": {
     "name": "#%%\n"
    }
   }
  },
  {
   "cell_type": "code",
   "execution_count": 115,
   "outputs": [
    {
     "data": {
      "text/plain": "         기업    연도       부채비율      매출액증가율     영업이익증가율    당기순이익증가율 매출액_상태  \\\n0       CBI  2013  45.517114         NaN         NaN         NaN   흑자지속   \n1       CBI  2014  46.574208   -0.858953    9.374222  -56.292894   흑자지속   \n2       CBI  2015  51.489380  -16.391019  -53.865398  -62.211931   흑자지속   \n3       CBI  2016  55.350398   -0.785005 -435.352724  -35.665295   흑자지속   \n4       CBI  2017  59.840029    5.835095  146.749077  145.380697   흑자지속   \n..      ...   ...        ...         ...         ...         ...    ...   \n796  효성첨단소재  2016        NaN         NaN         NaN         NaN    NaN   \n797  효성첨단소재  2017        NaN         NaN         NaN         NaN   적자지속   \n798  효성첨단소재  2018  18.385461  100.000000  100.000000  100.000000   흑자전환   \n799  효성첨단소재  2019  16.016780   42.118229   59.487018   55.119811   흑자지속   \n800  효성첨단소재  2020  16.036010  -27.519715 -362.828924  876.867598   흑자지속   \n\n    영업이익_상태 당기순이익_상태       ROA        ROE     현재_주가     미래_주가   배당금  \\\n0      흑자지속     흑자지속  2.442503        NaN     441.0     494.0  50.0   \n1      흑자지속     흑자지속  1.584943   3.418144     494.0     721.0  50.0   \n2      흑자지속     흑자지속  0.970557   1.985742     721.0     620.0  50.0   \n3      흑자지속     흑자지속  0.694476   1.318624     620.0     482.0   0.0   \n4      적자전환     적자전환 -1.645763  -2.757521     482.0     511.0   0.0   \n..      ...      ...       ...        ...       ...       ...   ...   \n796     NaN      NaN       NaN        NaN  160000.0  160000.0   0.0   \n797    적자지속     적자지속       NaN        NaN  160000.0  129500.0   0.0   \n798    흑자전환     적자지속 -0.936787 -10.190523  129500.0   61100.0   0.0   \n799    흑자지속     적자지속 -2.090275 -12.142743   61100.0  371500.0   0.0   \n800    흑자지속     흑자전환  0.286557   1.731771  371500.0       NaN   0.0   \n\n              PER       주가상승률  주가상승률평균  \n0        1.436482   12.018141      NaN  \n1        3.166667   45.951417      NaN  \n2        7.210000  -14.008322      NaN  \n3             NaN  -22.258065      NaN  \n4             NaN    6.016598      NaN  \n..            ...         ...      ...  \n796           NaN    0.000000      NaN  \n797           NaN  -19.062500      NaN  \n798     21.878696  -52.818533      NaN  \n799      3.900664  508.019640      NaN  \n800  20638.888890         NaN      NaN  \n\n[801 rows x 17 columns]",
      "text/html": "<div>\n<style scoped>\n    .dataframe tbody tr th:only-of-type {\n        vertical-align: middle;\n    }\n\n    .dataframe tbody tr th {\n        vertical-align: top;\n    }\n\n    .dataframe thead th {\n        text-align: right;\n    }\n</style>\n<table border=\"1\" class=\"dataframe\">\n  <thead>\n    <tr style=\"text-align: right;\">\n      <th></th>\n      <th>기업</th>\n      <th>연도</th>\n      <th>부채비율</th>\n      <th>매출액증가율</th>\n      <th>영업이익증가율</th>\n      <th>당기순이익증가율</th>\n      <th>매출액_상태</th>\n      <th>영업이익_상태</th>\n      <th>당기순이익_상태</th>\n      <th>ROA</th>\n      <th>ROE</th>\n      <th>현재_주가</th>\n      <th>미래_주가</th>\n      <th>배당금</th>\n      <th>PER</th>\n      <th>주가상승률</th>\n      <th>주가상승률평균</th>\n    </tr>\n  </thead>\n  <tbody>\n    <tr>\n      <th>0</th>\n      <td>CBI</td>\n      <td>2013</td>\n      <td>45.517114</td>\n      <td>NaN</td>\n      <td>NaN</td>\n      <td>NaN</td>\n      <td>흑자지속</td>\n      <td>흑자지속</td>\n      <td>흑자지속</td>\n      <td>2.442503</td>\n      <td>NaN</td>\n      <td>441.0</td>\n      <td>494.0</td>\n      <td>50.0</td>\n      <td>1.436482</td>\n      <td>12.018141</td>\n      <td>NaN</td>\n    </tr>\n    <tr>\n      <th>1</th>\n      <td>CBI</td>\n      <td>2014</td>\n      <td>46.574208</td>\n      <td>-0.858953</td>\n      <td>9.374222</td>\n      <td>-56.292894</td>\n      <td>흑자지속</td>\n      <td>흑자지속</td>\n      <td>흑자지속</td>\n      <td>1.584943</td>\n      <td>3.418144</td>\n      <td>494.0</td>\n      <td>721.0</td>\n      <td>50.0</td>\n      <td>3.166667</td>\n      <td>45.951417</td>\n      <td>NaN</td>\n    </tr>\n    <tr>\n      <th>2</th>\n      <td>CBI</td>\n      <td>2015</td>\n      <td>51.489380</td>\n      <td>-16.391019</td>\n      <td>-53.865398</td>\n      <td>-62.211931</td>\n      <td>흑자지속</td>\n      <td>흑자지속</td>\n      <td>흑자지속</td>\n      <td>0.970557</td>\n      <td>1.985742</td>\n      <td>721.0</td>\n      <td>620.0</td>\n      <td>50.0</td>\n      <td>7.210000</td>\n      <td>-14.008322</td>\n      <td>NaN</td>\n    </tr>\n    <tr>\n      <th>3</th>\n      <td>CBI</td>\n      <td>2016</td>\n      <td>55.350398</td>\n      <td>-0.785005</td>\n      <td>-435.352724</td>\n      <td>-35.665295</td>\n      <td>흑자지속</td>\n      <td>흑자지속</td>\n      <td>흑자지속</td>\n      <td>0.694476</td>\n      <td>1.318624</td>\n      <td>620.0</td>\n      <td>482.0</td>\n      <td>0.0</td>\n      <td>NaN</td>\n      <td>-22.258065</td>\n      <td>NaN</td>\n    </tr>\n    <tr>\n      <th>4</th>\n      <td>CBI</td>\n      <td>2017</td>\n      <td>59.840029</td>\n      <td>5.835095</td>\n      <td>146.749077</td>\n      <td>145.380697</td>\n      <td>흑자지속</td>\n      <td>적자전환</td>\n      <td>적자전환</td>\n      <td>-1.645763</td>\n      <td>-2.757521</td>\n      <td>482.0</td>\n      <td>511.0</td>\n      <td>0.0</td>\n      <td>NaN</td>\n      <td>6.016598</td>\n      <td>NaN</td>\n    </tr>\n    <tr>\n      <th>...</th>\n      <td>...</td>\n      <td>...</td>\n      <td>...</td>\n      <td>...</td>\n      <td>...</td>\n      <td>...</td>\n      <td>...</td>\n      <td>...</td>\n      <td>...</td>\n      <td>...</td>\n      <td>...</td>\n      <td>...</td>\n      <td>...</td>\n      <td>...</td>\n      <td>...</td>\n      <td>...</td>\n      <td>...</td>\n    </tr>\n    <tr>\n      <th>796</th>\n      <td>효성첨단소재</td>\n      <td>2016</td>\n      <td>NaN</td>\n      <td>NaN</td>\n      <td>NaN</td>\n      <td>NaN</td>\n      <td>NaN</td>\n      <td>NaN</td>\n      <td>NaN</td>\n      <td>NaN</td>\n      <td>NaN</td>\n      <td>160000.0</td>\n      <td>160000.0</td>\n      <td>0.0</td>\n      <td>NaN</td>\n      <td>0.000000</td>\n      <td>NaN</td>\n    </tr>\n    <tr>\n      <th>797</th>\n      <td>효성첨단소재</td>\n      <td>2017</td>\n      <td>NaN</td>\n      <td>NaN</td>\n      <td>NaN</td>\n      <td>NaN</td>\n      <td>적자지속</td>\n      <td>적자지속</td>\n      <td>적자지속</td>\n      <td>NaN</td>\n      <td>NaN</td>\n      <td>160000.0</td>\n      <td>129500.0</td>\n      <td>0.0</td>\n      <td>NaN</td>\n      <td>-19.062500</td>\n      <td>NaN</td>\n    </tr>\n    <tr>\n      <th>798</th>\n      <td>효성첨단소재</td>\n      <td>2018</td>\n      <td>18.385461</td>\n      <td>100.000000</td>\n      <td>100.000000</td>\n      <td>100.000000</td>\n      <td>흑자전환</td>\n      <td>흑자전환</td>\n      <td>적자지속</td>\n      <td>-0.936787</td>\n      <td>-10.190523</td>\n      <td>129500.0</td>\n      <td>61100.0</td>\n      <td>0.0</td>\n      <td>21.878696</td>\n      <td>-52.818533</td>\n      <td>NaN</td>\n    </tr>\n    <tr>\n      <th>799</th>\n      <td>효성첨단소재</td>\n      <td>2019</td>\n      <td>16.016780</td>\n      <td>42.118229</td>\n      <td>59.487018</td>\n      <td>55.119811</td>\n      <td>흑자지속</td>\n      <td>흑자지속</td>\n      <td>적자지속</td>\n      <td>-2.090275</td>\n      <td>-12.142743</td>\n      <td>61100.0</td>\n      <td>371500.0</td>\n      <td>0.0</td>\n      <td>3.900664</td>\n      <td>508.019640</td>\n      <td>NaN</td>\n    </tr>\n    <tr>\n      <th>800</th>\n      <td>효성첨단소재</td>\n      <td>2020</td>\n      <td>16.036010</td>\n      <td>-27.519715</td>\n      <td>-362.828924</td>\n      <td>876.867598</td>\n      <td>흑자지속</td>\n      <td>흑자지속</td>\n      <td>흑자전환</td>\n      <td>0.286557</td>\n      <td>1.731771</td>\n      <td>371500.0</td>\n      <td>NaN</td>\n      <td>0.0</td>\n      <td>20638.888890</td>\n      <td>NaN</td>\n      <td>NaN</td>\n    </tr>\n  </tbody>\n</table>\n<p>801 rows × 17 columns</p>\n</div>"
     },
     "execution_count": 115,
     "metadata": {},
     "output_type": "execute_result"
    }
   ],
   "source": [
    "incre_df_pivot =incre_df\n",
    "incre_df_pivot['주가상승률평균'] = 상승률\n",
    "incre_df_pivot = incre_df_pivot.sort_values('주가상승률평균', ascending=False)\n",
    "incre_df_pivot"
   ],
   "metadata": {
    "collapsed": false,
    "pycharm": {
     "name": "#%%\n"
    }
   }
  },
  {
   "cell_type": "code",
   "execution_count": 116,
   "outputs": [
    {
     "data": {
      "text/plain": "                      PER       ROA        ROE    당기순이익증가율   배당금       주가상승률\n기업     연도                                                                   \nCBI    2013      1.436482  2.442503        NaN         NaN  50.0   12.018141\n       2014      3.166667  1.584943   3.418144  -56.292894  50.0   45.951417\n       2015      7.210000  0.970557   1.985742  -62.211931  50.0  -14.008322\n       2016           NaN  0.694476   1.318624  -35.665295   0.0  -22.258065\n       2017           NaN -1.645763  -2.757521  145.380697   0.0    6.016598\n...                   ...       ...        ...         ...   ...         ...\n효성첨단소재 2016           NaN       NaN        NaN         NaN   0.0    0.000000\n       2017           NaN       NaN        NaN         NaN   0.0  -19.062500\n       2018     21.878696 -0.936787 -10.190523  100.000000   0.0  -52.818533\n       2019      3.900664 -2.090275 -12.142743   55.119811   0.0  508.019640\n       2020  20638.888890  0.286557   1.731771  876.867598   0.0         NaN\n\n[784 rows x 6 columns]",
      "text/html": "<div>\n<style scoped>\n    .dataframe tbody tr th:only-of-type {\n        vertical-align: middle;\n    }\n\n    .dataframe tbody tr th {\n        vertical-align: top;\n    }\n\n    .dataframe thead th {\n        text-align: right;\n    }\n</style>\n<table border=\"1\" class=\"dataframe\">\n  <thead>\n    <tr style=\"text-align: right;\">\n      <th></th>\n      <th></th>\n      <th>PER</th>\n      <th>ROA</th>\n      <th>ROE</th>\n      <th>당기순이익증가율</th>\n      <th>배당금</th>\n      <th>주가상승률</th>\n    </tr>\n    <tr>\n      <th>기업</th>\n      <th>연도</th>\n      <th></th>\n      <th></th>\n      <th></th>\n      <th></th>\n      <th></th>\n      <th></th>\n    </tr>\n  </thead>\n  <tbody>\n    <tr>\n      <th rowspan=\"5\" valign=\"top\">CBI</th>\n      <th>2013</th>\n      <td>1.436482</td>\n      <td>2.442503</td>\n      <td>NaN</td>\n      <td>NaN</td>\n      <td>50.0</td>\n      <td>12.018141</td>\n    </tr>\n    <tr>\n      <th>2014</th>\n      <td>3.166667</td>\n      <td>1.584943</td>\n      <td>3.418144</td>\n      <td>-56.292894</td>\n      <td>50.0</td>\n      <td>45.951417</td>\n    </tr>\n    <tr>\n      <th>2015</th>\n      <td>7.210000</td>\n      <td>0.970557</td>\n      <td>1.985742</td>\n      <td>-62.211931</td>\n      <td>50.0</td>\n      <td>-14.008322</td>\n    </tr>\n    <tr>\n      <th>2016</th>\n      <td>NaN</td>\n      <td>0.694476</td>\n      <td>1.318624</td>\n      <td>-35.665295</td>\n      <td>0.0</td>\n      <td>-22.258065</td>\n    </tr>\n    <tr>\n      <th>2017</th>\n      <td>NaN</td>\n      <td>-1.645763</td>\n      <td>-2.757521</td>\n      <td>145.380697</td>\n      <td>0.0</td>\n      <td>6.016598</td>\n    </tr>\n    <tr>\n      <th>...</th>\n      <th>...</th>\n      <td>...</td>\n      <td>...</td>\n      <td>...</td>\n      <td>...</td>\n      <td>...</td>\n      <td>...</td>\n    </tr>\n    <tr>\n      <th rowspan=\"5\" valign=\"top\">효성첨단소재</th>\n      <th>2016</th>\n      <td>NaN</td>\n      <td>NaN</td>\n      <td>NaN</td>\n      <td>NaN</td>\n      <td>0.0</td>\n      <td>0.000000</td>\n    </tr>\n    <tr>\n      <th>2017</th>\n      <td>NaN</td>\n      <td>NaN</td>\n      <td>NaN</td>\n      <td>NaN</td>\n      <td>0.0</td>\n      <td>-19.062500</td>\n    </tr>\n    <tr>\n      <th>2018</th>\n      <td>21.878696</td>\n      <td>-0.936787</td>\n      <td>-10.190523</td>\n      <td>100.000000</td>\n      <td>0.0</td>\n      <td>-52.818533</td>\n    </tr>\n    <tr>\n      <th>2019</th>\n      <td>3.900664</td>\n      <td>-2.090275</td>\n      <td>-12.142743</td>\n      <td>55.119811</td>\n      <td>0.0</td>\n      <td>508.019640</td>\n    </tr>\n    <tr>\n      <th>2020</th>\n      <td>20638.888890</td>\n      <td>0.286557</td>\n      <td>1.731771</td>\n      <td>876.867598</td>\n      <td>0.0</td>\n      <td>NaN</td>\n    </tr>\n  </tbody>\n</table>\n<p>784 rows × 6 columns</p>\n</div>"
     },
     "execution_count": 116,
     "metadata": {},
     "output_type": "execute_result"
    }
   ],
   "source": [
    "\n",
    "incre_df_pivot = incre_df_pivot.pivot_table(\n",
    "    index=['기업', '연도'],\n",
    "    values = ['주가상승률', '당기순이익증가율', 'ROA' ,'ROE' ,'PER', '배당금', '주가상승률평균'],\n",
    "\n",
    "\n",
    ")\n",
    "\n",
    "incre_df_pivot"
   ],
   "metadata": {
    "collapsed": false,
    "pycharm": {
     "name": "#%%\n"
    }
   }
  },
  {
   "cell_type": "code",
   "execution_count": 117,
   "outputs": [],
   "source": [
    "incre_df_pivot.to_csv('상승기업_피봇테이블.csv', encoding='utf-8-sig')"
   ],
   "metadata": {
    "collapsed": false,
    "pycharm": {
     "name": "#%%\n"
    }
   }
  },
  {
   "cell_type": "code",
   "execution_count": 55,
   "outputs": [
    {
     "data": {
      "text/plain": "(array([3.340e+02, 1.502e+03, 2.680e+02, 5.600e+01, 9.000e+00, 4.000e+00,\n        1.000e+00, 1.000e+00, 1.000e+00, 2.000e+00]),\n array([-38.11612469,  -2.77690867,  32.56230735,  67.90152337,\n        103.24073939, 138.57995542, 173.91917144, 209.25838746,\n        244.59760348, 279.9368195 , 315.27603553]),\n <BarContainer object of 10 artists>)"
     },
     "execution_count": 55,
     "metadata": {},
     "output_type": "execute_result"
    },
    {
     "data": {
      "text/plain": "<Figure size 432x288 with 1 Axes>",
      "image/png": "[encoded data removed]"
     },
     "metadata": {
      "needs_background": "light"
     },
     "output_type": "display_data"
    }
   ],
   "source": [
    "import numpy as np\n",
    "x = 상승률.index\n",
    "y = 상승률\n",
    "\n",
    "plt.hist(상승률)"
   ],
   "metadata": {
    "collapsed": false,
    "pycharm": {
     "name": "#%%\n"
    }
   }
  },
  {
   "cell_type": "code",
   "execution_count": 57,
   "outputs": [
    {
     "name": "stdout",
     "output_type": "stream",
     "text": [
      "<class 'pandas.core.frame.DataFrame'>\n",
      "RangeIndex: 1577 entries, 0 to 1576\n",
      "Data columns (total 6 columns):\n",
      " #   Column  Non-Null Count  Dtype \n",
      "---  ------  --------------  ----- \n",
      " 0   종목명     1577 non-null   object\n",
      " 1   리포트제목   1577 non-null   object\n",
      " 2   적정가격    1577 non-null   object\n",
      " 3   의견      1577 non-null   object\n",
      " 4   증권사     1577 non-null   object\n",
      " 5   날짜      1577 non-null   object\n",
      "dtypes: object(6)\n",
      "memory usage: 74.0+ KB\n"
     ]
    }
   ],
   "source": [
    "report_df.info()"
   ],
   "metadata": {
    "collapsed": false,
    "pycharm": {
     "name": "#%%\n"
    }
   }
  },
  {
   "cell_type": "code",
   "execution_count": 58,
   "outputs": [
    {
     "data": {
      "text/plain": "         종목명                        리포트제목     적정가격      의견       증권사  \\\n0     SK하이닉스            리스크 관리가 좀더 필요한 시점   120000  매수(유지)    하이투자증권   \n1        솔루엠                    수주잔고가 쌓인다    28000  매수(유지)    하이투자증권   \n2       유한양행        높아진 성공 가능성 할인보다 할증 요소    90000  매수(유지)      키움증권   \n3     코스모신소재                   증설은 곧 성장이다        -       -      키움증권   \n4        넷마블   올해까지 실적으론 고평가, 내년 실적부턴 저평가   145000      매수  이베스트투자증권   \n...      ...                          ...      ...     ...       ...   \n1572  우리금융지주   경상 수익성을 레벨업 시킨 top-line 개선    12500      매수    하나금융투자   \n1573   엔씨소프트     1Q21 Preview, 리니지M, 블소2   1200000  매수(유지)     유안타증권   \n1574   NAVER  1Q21 Preview, 쿠팡, LINE, 제페토   550000  매수(유지)     유안타증권   \n1575     카카오  1Q21 preview, 카카오 모빌리티, 두나무   135000  매수(유지)     유안타증권   \n1576  코스모신소재      양극재와 MLCC용 필름 동반 호조 사이클        -       -      키움증권   \n\n              날짜  \n0     2021.10.15  \n1     2021.10.15  \n2     2021.10.15  \n3     2021.10.15  \n4     2021.10.15  \n...          ...  \n1572   2021.4.22  \n1573   2021.4.22  \n1574   2021.4.22  \n1575   2021.4.22  \n1576   2021.4.22  \n\n[1577 rows x 6 columns]",
      "text/html": "<div>\n<style scoped>\n    .dataframe tbody tr th:only-of-type {\n        vertical-align: middle;\n    }\n\n    .dataframe tbody tr th {\n        vertical-align: top;\n    }\n\n    .dataframe thead th {\n        text-align: right;\n    }\n</style>\n<table border=\"1\" class=\"dataframe\">\n  <thead>\n    <tr style=\"text-align: right;\">\n      <th></th>\n      <th>종목명</th>\n      <th>리포트제목</th>\n      <th>적정가격</th>\n      <th>의견</th>\n      <th>증권사</th>\n      <th>날짜</th>\n    </tr>\n  </thead>\n  <tbody>\n    <tr>\n      <th>0</th>\n      <td>SK하이닉스</td>\n      <td>리스크 관리가 좀더 필요한 시점</td>\n      <td>120000</td>\n      <td>매수(유지)</td>\n      <td>하이투자증권</td>\n      <td>2021.10.15</td>\n    </tr>\n    <tr>\n      <th>1</th>\n      <td>솔루엠</td>\n      <td>수주잔고가 쌓인다</td>\n      <td>28000</td>\n      <td>매수(유지)</td>\n      <td>하이투자증권</td>\n      <td>2021.10.15</td>\n    </tr>\n    <tr>\n      <th>2</th>\n      <td>유한양행</td>\n      <td>높아진 성공 가능성 할인보다 할증 요소</td>\n      <td>90000</td>\n      <td>매수(유지)</td>\n      <td>키움증권</td>\n      <td>2021.10.15</td>\n    </tr>\n    <tr>\n      <th>3</th>\n      <td>코스모신소재</td>\n      <td>증설은 곧 성장이다</td>\n      <td>-</td>\n      <td>-</td>\n      <td>키움증권</td>\n      <td>2021.10.15</td>\n    </tr>\n    <tr>\n      <th>4</th>\n      <td>넷마블</td>\n      <td>올해까지 실적으론 고평가, 내년 실적부턴 저평가</td>\n      <td>145000</td>\n      <td>매수</td>\n      <td>이베스트투자증권</td>\n      <td>2021.10.15</td>\n    </tr>\n    <tr>\n      <th>...</th>\n      <td>...</td>\n      <td>...</td>\n      <td>...</td>\n      <td>...</td>\n      <td>...</td>\n      <td>...</td>\n    </tr>\n    <tr>\n      <th>1572</th>\n      <td>우리금융지주</td>\n      <td>경상 수익성을 레벨업 시킨 top-line 개선</td>\n      <td>12500</td>\n      <td>매수</td>\n      <td>하나금융투자</td>\n      <td>2021.4.22</td>\n    </tr>\n    <tr>\n      <th>1573</th>\n      <td>엔씨소프트</td>\n      <td>1Q21 Preview, 리니지M, 블소2</td>\n      <td>1200000</td>\n      <td>매수(유지)</td>\n      <td>유안타증권</td>\n      <td>2021.4.22</td>\n    </tr>\n    <tr>\n      <th>1574</th>\n      <td>NAVER</td>\n      <td>1Q21 Preview, 쿠팡, LINE, 제페토</td>\n      <td>550000</td>\n      <td>매수(유지)</td>\n      <td>유안타증권</td>\n      <td>2021.4.22</td>\n    </tr>\n    <tr>\n      <th>1575</th>\n      <td>카카오</td>\n      <td>1Q21 preview, 카카오 모빌리티, 두나무</td>\n      <td>135000</td>\n      <td>매수(유지)</td>\n      <td>유안타증권</td>\n      <td>2021.4.22</td>\n    </tr>\n    <tr>\n      <th>1576</th>\n      <td>코스모신소재</td>\n      <td>양극재와 MLCC용 필름 동반 호조 사이클</td>\n      <td>-</td>\n      <td>-</td>\n      <td>키움증권</td>\n      <td>2021.4.22</td>\n    </tr>\n  </tbody>\n</table>\n<p>1577 rows × 6 columns</p>\n</div>"
     },
     "execution_count": 58,
     "metadata": {},
     "output_type": "execute_result"
    }
   ],
   "source": [
    "report_df"
   ],
   "metadata": {
    "collapsed": false,
    "pycharm": {
     "name": "#%%\n"
    }
   }
  },
  {
   "cell_type": "code",
   "execution_count": null,
   "outputs": [],
   "source": [],
   "metadata": {
    "collapsed": false,
    "pycharm": {
     "name": "#%%\n"
    }
   }
  }
 ],
 "metadata": {
  "kernelspec": {
   "display_name": "Python 3",
   "language": "python",
   "name": "python3"
  },
  "language_info": {
   "codemirror_mode": {
    "name": "ipython",
    "version": 2
   },
   "file_extension": ".py",
   "mimetype": "text/x-python",
   "name": "python",
   "nbconvert_exporter": "python",
   "pygments_lexer": "ipython2",
   "version": "2.7.6"
  }
 },
 "nbformat": 4,
 "nbformat_minor": 0
}